{
 "cells": [
  {
   "cell_type": "markdown",
   "id": "aa7c1103",
   "metadata": {},
   "source": [
    "# Statistics in python\n",
    "_______\n",
    "## Measures of center - `mean` , `median` , `mode`\n",
    "- Mean - '*the typical value*' - sum of all observations divided by the total no. of observations - `np.median()`\n",
    "- Median - '*the exact middle value*' - midpoint of the observed values **sorted in order** - `np.median()`\n",
    "- Mode - '*the most occurred observed value*' - its the count of how many times each of the observed values has occurred - `df.value_counts()`\n",
    "<br>\n",
    "<br>\n",
    "- Mean is impacted to a greater extent by the extreme values while the median is much more stable measure of centre. \n",
    "- Thus , the median is less impacted by fluctuations or anomalies than the mean.\n",
    "- Mean and median would be same if the data is symmetrically distributed ; however they'd be distinct values if the data is skewed."
   ]
  },
  {
   "cell_type": "code",
   "execution_count": 1,
   "id": "4a388772",
   "metadata": {},
   "outputs": [],
   "source": [
    "import numpy as np\n",
    "import pandas as pd\n",
    "import matplotlib.pyplot as plt"
   ]
  },
  {
   "cell_type": "code",
   "execution_count": 2,
   "id": "18783912",
   "metadata": {},
   "outputs": [
    {
     "data": {
      "text/html": [
       "<div>\n",
       "<style scoped>\n",
       "    .dataframe tbody tr th:only-of-type {\n",
       "        vertical-align: middle;\n",
       "    }\n",
       "\n",
       "    .dataframe tbody tr th {\n",
       "        vertical-align: top;\n",
       "    }\n",
       "\n",
       "    .dataframe thead th {\n",
       "        text-align: right;\n",
       "    }\n",
       "</style>\n",
       "<table border=\"1\" class=\"dataframe\">\n",
       "  <thead>\n",
       "    <tr style=\"text-align: right;\">\n",
       "      <th></th>\n",
       "      <th>country</th>\n",
       "      <th>food_category</th>\n",
       "      <th>consumption</th>\n",
       "      <th>co2_emission</th>\n",
       "    </tr>\n",
       "  </thead>\n",
       "  <tbody>\n",
       "    <tr>\n",
       "      <th>1</th>\n",
       "      <td>Argentina</td>\n",
       "      <td>pork</td>\n",
       "      <td>10.51</td>\n",
       "      <td>37.20</td>\n",
       "    </tr>\n",
       "    <tr>\n",
       "      <th>2</th>\n",
       "      <td>Argentina</td>\n",
       "      <td>poultry</td>\n",
       "      <td>38.66</td>\n",
       "      <td>41.53</td>\n",
       "    </tr>\n",
       "    <tr>\n",
       "      <th>3</th>\n",
       "      <td>Argentina</td>\n",
       "      <td>beef</td>\n",
       "      <td>55.48</td>\n",
       "      <td>1712.00</td>\n",
       "    </tr>\n",
       "    <tr>\n",
       "      <th>4</th>\n",
       "      <td>Argentina</td>\n",
       "      <td>lamb_goat</td>\n",
       "      <td>1.56</td>\n",
       "      <td>54.63</td>\n",
       "    </tr>\n",
       "    <tr>\n",
       "      <th>5</th>\n",
       "      <td>Argentina</td>\n",
       "      <td>fish</td>\n",
       "      <td>4.36</td>\n",
       "      <td>6.96</td>\n",
       "    </tr>\n",
       "  </tbody>\n",
       "</table>\n",
       "</div>"
      ],
      "text/plain": [
       "     country food_category  consumption  co2_emission\n",
       "1  Argentina          pork        10.51         37.20\n",
       "2  Argentina       poultry        38.66         41.53\n",
       "3  Argentina          beef        55.48       1712.00\n",
       "4  Argentina     lamb_goat         1.56         54.63\n",
       "5  Argentina          fish         4.36          6.96"
      ]
     },
     "execution_count": 2,
     "metadata": {},
     "output_type": "execute_result"
    }
   ],
   "source": [
    "foodcon = pd.read_csv('./course_datasets/stats_datasets/food_consumption.csv', index_col=0)\n",
    "foodcon.head()"
   ]
  },
  {
   "cell_type": "code",
   "execution_count": 3,
   "id": "a457fa8a",
   "metadata": {},
   "outputs": [
    {
     "data": {
      "text/html": [
       "<div>\n",
       "<style scoped>\n",
       "    .dataframe tbody tr th:only-of-type {\n",
       "        vertical-align: middle;\n",
       "    }\n",
       "\n",
       "    .dataframe tbody tr th {\n",
       "        vertical-align: top;\n",
       "    }\n",
       "\n",
       "    .dataframe thead th {\n",
       "        text-align: right;\n",
       "    }\n",
       "</style>\n",
       "<table border=\"1\" class=\"dataframe\">\n",
       "  <thead>\n",
       "    <tr style=\"text-align: right;\">\n",
       "      <th></th>\n",
       "      <th>country</th>\n",
       "      <th>food_category</th>\n",
       "      <th>consumption</th>\n",
       "      <th>co2_emission</th>\n",
       "    </tr>\n",
       "  </thead>\n",
       "  <tbody>\n",
       "    <tr>\n",
       "      <th>9</th>\n",
       "      <td>Argentina</td>\n",
       "      <td>rice</td>\n",
       "      <td>8.77</td>\n",
       "      <td>11.22</td>\n",
       "    </tr>\n",
       "    <tr>\n",
       "      <th>20</th>\n",
       "      <td>Australia</td>\n",
       "      <td>rice</td>\n",
       "      <td>11.03</td>\n",
       "      <td>14.12</td>\n",
       "    </tr>\n",
       "    <tr>\n",
       "      <th>31</th>\n",
       "      <td>Albania</td>\n",
       "      <td>rice</td>\n",
       "      <td>7.78</td>\n",
       "      <td>9.96</td>\n",
       "    </tr>\n",
       "    <tr>\n",
       "      <th>42</th>\n",
       "      <td>Iceland</td>\n",
       "      <td>rice</td>\n",
       "      <td>3.89</td>\n",
       "      <td>4.98</td>\n",
       "    </tr>\n",
       "    <tr>\n",
       "      <th>53</th>\n",
       "      <td>New Zealand</td>\n",
       "      <td>rice</td>\n",
       "      <td>9.16</td>\n",
       "      <td>11.72</td>\n",
       "    </tr>\n",
       "  </tbody>\n",
       "</table>\n",
       "</div>"
      ],
      "text/plain": [
       "        country food_category  consumption  co2_emission\n",
       "9     Argentina          rice         8.77         11.22\n",
       "20    Australia          rice        11.03         14.12\n",
       "31      Albania          rice         7.78          9.96\n",
       "42      Iceland          rice         3.89          4.98\n",
       "53  New Zealand          rice         9.16         11.72"
      ]
     },
     "execution_count": 3,
     "metadata": {},
     "output_type": "execute_result"
    }
   ],
   "source": [
    "ricecon = foodcon[foodcon[\"food_category\"]==\"rice\"]\n",
    "ricecon.head()"
   ]
  },
  {
   "cell_type": "code",
   "execution_count": 4,
   "id": "beec1a67",
   "metadata": {},
   "outputs": [
    {
     "data": {
      "text/plain": [
       "<Axes: ylabel='Frequency'>"
      ]
     },
     "execution_count": 4,
     "metadata": {},
     "output_type": "execute_result"
    },
    {
     "data": {
      "image/png": "[encoded data removed]",
      "text/plain": [
       "<Figure size 640x480 with 1 Axes>"
      ]
     },
     "metadata": {},
     "output_type": "display_data"
    }
   ],
   "source": [
    "ricecon.plot(\"co2_emission\",kind='hist')"
   ]
  },
  {
   "cell_type": "code",
   "execution_count": 5,
   "id": "c9454d91",
   "metadata": {},
   "outputs": [
    {
     "data": {
      "image/png": "[encoded data removed]",
      "text/plain": [
       "<Figure size 640x480 with 1 Axes>"
      ]
     },
     "metadata": {},
     "output_type": "display_data"
    }
   ],
   "source": [
    "ricecon[\"co2_emission\"].hist()\n",
    "plt.show()"
   ]
  },
  {
   "cell_type": "code",
   "execution_count": 6,
   "id": "09c35163",
   "metadata": {},
   "outputs": [
    {
     "data": {
      "text/plain": [
       "mean      37.591615\n",
       "median    15.200000\n",
       "Name: co2_emission, dtype: float64"
      ]
     },
     "execution_count": 6,
     "metadata": {},
     "output_type": "execute_result"
    }
   ],
   "source": [
    "ricecon[\"co2_emission\"].agg(['mean','median'])"
   ]
  },
  {
   "cell_type": "markdown",
   "id": "5f9cb542",
   "metadata": {},
   "source": [
    "____\n",
    "## Measures of spread\n",
    "## 1. Variance : \n",
    "Its basically the distance of each data point to the data's mean. <br><br>\n",
    "As per its mathematical representation, its the square of the sum of each values distance from the mean ; divided by the total no. of points inthe dataset"
   ]
  },
  {
   "cell_type": "code",
   "execution_count": 7,
   "id": "bd2b8d2d",
   "metadata": {},
   "outputs": [],
   "source": [
    "np.random.seed(123)\n",
    "d1= np.random.randint(15,500,10)\n",
    "dlist = {\"col1\":d1}\n",
    "sample_df = pd.DataFrame(dlist)"
   ]
  },
  {
   "cell_type": "code",
   "execution_count": 8,
   "id": "0c661f90",
   "metadata": {},
   "outputs": [
    {
     "data": {
      "text/html": [
       "<div>\n",
       "<style scoped>\n",
       "    .dataframe tbody tr th:only-of-type {\n",
       "        vertical-align: middle;\n",
       "    }\n",
       "\n",
       "    .dataframe tbody tr th {\n",
       "        vertical-align: top;\n",
       "    }\n",
       "\n",
       "    .dataframe thead th {\n",
       "        text-align: right;\n",
       "    }\n",
       "</style>\n",
       "<table border=\"1\" class=\"dataframe\">\n",
       "  <thead>\n",
       "    <tr style=\"text-align: right;\">\n",
       "      <th></th>\n",
       "      <th>col1</th>\n",
       "    </tr>\n",
       "  </thead>\n",
       "  <tbody>\n",
       "    <tr>\n",
       "      <th>0</th>\n",
       "      <td>380</td>\n",
       "    </tr>\n",
       "    <tr>\n",
       "      <th>1</th>\n",
       "      <td>397</td>\n",
       "    </tr>\n",
       "    <tr>\n",
       "      <th>2</th>\n",
       "      <td>337</td>\n",
       "    </tr>\n",
       "    <tr>\n",
       "      <th>3</th>\n",
       "      <td>491</td>\n",
       "    </tr>\n",
       "    <tr>\n",
       "      <th>4</th>\n",
       "      <td>113</td>\n",
       "    </tr>\n",
       "    <tr>\n",
       "      <th>5</th>\n",
       "      <td>245</td>\n",
       "    </tr>\n",
       "    <tr>\n",
       "      <th>6</th>\n",
       "      <td>32</td>\n",
       "    </tr>\n",
       "    <tr>\n",
       "      <th>7</th>\n",
       "      <td>98</td>\n",
       "    </tr>\n",
       "    <tr>\n",
       "      <th>8</th>\n",
       "      <td>121</td>\n",
       "    </tr>\n",
       "    <tr>\n",
       "      <th>9</th>\n",
       "      <td>138</td>\n",
       "    </tr>\n",
       "  </tbody>\n",
       "</table>\n",
       "</div>"
      ],
      "text/plain": [
       "   col1\n",
       "0   380\n",
       "1   397\n",
       "2   337\n",
       "3   491\n",
       "4   113\n",
       "5   245\n",
       "6    32\n",
       "7    98\n",
       "8   121\n",
       "9   138"
      ]
     },
     "execution_count": 8,
     "metadata": {},
     "output_type": "execute_result"
    }
   ],
   "source": [
    "sample_df"
   ]
  },
  {
   "cell_type": "markdown",
   "id": "f3d12cdf",
   "metadata": {},
   "source": [
    "### Calculating variance manually"
   ]
  },
  {
   "cell_type": "code",
   "execution_count": 9,
   "id": "29eb1ab2",
   "metadata": {},
   "outputs": [
    {
     "name": "stdout",
     "output_type": "stream",
     "text": [
      "0    144.8\n",
      "1    161.8\n",
      "2    101.8\n",
      "3    255.8\n",
      "4   -122.2\n",
      "5      9.8\n",
      "6   -203.2\n",
      "7   -137.2\n",
      "8   -114.2\n",
      "9    -97.2\n",
      "Name: col1, dtype: float64\n",
      "0    20967.04\n",
      "1    26179.24\n",
      "2    10363.24\n",
      "3    65433.64\n",
      "4    14932.84\n",
      "5       96.04\n",
      "6    41290.24\n",
      "7    18823.84\n",
      "8    13041.64\n",
      "9     9447.84\n",
      "Name: col1, dtype: float64\n",
      "220575.59999999998\n"
     ]
    }
   ],
   "source": [
    "# Calculating distance of each point to the mean\n",
    "dist = sample_df[\"col1\"] - np.mean(sample_df[\"col1\"])\n",
    "print(dist)\n",
    "\n",
    "# Squaring each distance value\n",
    "sq_dist = dist **2\n",
    "print(sq_dist)\n",
    "\n",
    "# sum squared distances\n",
    "sum_sq_dist = np.sum(sq_dist)\n",
    "print(sum_sq_dist)\n",
    "\n",
    "# Divide by total no. of points\n",
    "final_variance = sum_sq_dist / (len(sample_df[\"col1\"]))"
   ]
  },
  {
   "cell_type": "code",
   "execution_count": 10,
   "id": "725d86f5",
   "metadata": {},
   "outputs": [
    {
     "data": {
      "text/plain": [
       "np.float64(22057.559999999998)"
      ]
     },
     "execution_count": 10,
     "metadata": {},
     "output_type": "execute_result"
    }
   ],
   "source": [
    "final_variance"
   ]
  },
  {
   "cell_type": "markdown",
   "id": "4d4077ec",
   "metadata": {},
   "source": [
    "### Using the `np.var()`\n",
    "`ddof=1` is used when variance is being calculated for a full population of the data (also called population variance) ; else it is set to `ddof=0` by default (sample variance)"
   ]
  },
  {
   "cell_type": "code",
   "execution_count": 11,
   "id": "ab222dd9",
   "metadata": {},
   "outputs": [
    {
     "name": "stdout",
     "output_type": "stream",
     "text": [
      "235.2\n",
      "32\n",
      "491\n"
     ]
    }
   ],
   "source": [
    "print(np.mean(sample_df[\"col1\"]))\n",
    "print(np.min(sample_df[\"col1\"]))\n",
    "print(np.max(sample_df[\"col1\"]))"
   ]
  },
  {
   "cell_type": "code",
   "execution_count": 12,
   "id": "e62d62b2",
   "metadata": {},
   "outputs": [
    {
     "data": {
      "text/plain": [
       "np.float64(22057.559999999998)"
      ]
     },
     "execution_count": 12,
     "metadata": {},
     "output_type": "execute_result"
    }
   ],
   "source": [
    "np.var(sample_df[\"col1\"])"
   ]
  },
  {
   "cell_type": "code",
   "execution_count": 13,
   "id": "78e8b63a",
   "metadata": {},
   "outputs": [
    {
     "data": {
      "text/plain": [
       "np.float64(24508.399999999998)"
      ]
     },
     "execution_count": 13,
     "metadata": {},
     "output_type": "execute_result"
    }
   ],
   "source": [
    "np.var(sample_df[\"col1\"],ddof=1)"
   ]
  },
  {
   "cell_type": "code",
   "execution_count": 14,
   "id": "1dbc0750",
   "metadata": {},
   "outputs": [
    {
     "data": {
      "text/plain": [
       "<Axes: >"
      ]
     },
     "execution_count": 14,
     "metadata": {},
     "output_type": "execute_result"
    },
    {
     "data": {
      "image/png": "[encoded data removed]",
      "text/plain": [
       "<Figure size 640x480 with 1 Axes>"
      ]
     },
     "metadata": {},
     "output_type": "display_data"
    }
   ],
   "source": [
    "sample_df[\"col1\"].hist()"
   ]
  },
  {
   "cell_type": "markdown",
   "id": "e6775689",
   "metadata": {},
   "source": [
    "### Q: Why is Variance Large Compared to Mean?\n",
    "In the above example, one might notice that the value of variance is quite high () compared to the overall mean of the dataset or even the distance of each point from the mean \n",
    "- High Variance results from data points being far away from the mean.\n",
    "- In above example, 32 and 491 are far from 235.2 → **causing a large spread**.\n",
    "- Variance is in squared units, **so even moderate deviations increase it sharply**.\n",
    "<br><br>\n",
    "- If the variance is small, it means most numbers are close to the mean. If the variance is large, it means the numbers are spread out more widely.\n",
    "- **A higher variance indicates greater variability, meaning the data is spread, while a lower variance suggests the data points are closer to the mean.**"
   ]
  },
  {
   "cell_type": "markdown",
   "id": "88118505",
   "metadata": {},
   "source": [
    "## 2. Standard Deviation\n",
    "Its the sqrt of the variance. This is a much better measure to interpret than variance.<br>\n",
    "Standard deviation is more interpretable, which is why it's more commonly reported in descriptive statistics and visuals."
   ]
  },
  {
   "cell_type": "code",
   "execution_count": 15,
   "id": "594ed3ad",
   "metadata": {},
   "outputs": [
    {
     "data": {
      "text/plain": [
       "np.float64(148.51787771174216)"
      ]
     },
     "execution_count": 15,
     "metadata": {},
     "output_type": "execute_result"
    }
   ],
   "source": [
    "np.std(sample_df[\"col1\"])"
   ]
  },
  {
   "cell_type": "code",
   "execution_count": 16,
   "id": "61336266",
   "metadata": {},
   "outputs": [
    {
     "data": {
      "text/plain": [
       "np.float64(156.55158894115382)"
      ]
     },
     "execution_count": 16,
     "metadata": {},
     "output_type": "execute_result"
    }
   ],
   "source": [
    "np.std(sample_df[\"col1\"],ddof=1)"
   ]
  },
  {
   "cell_type": "code",
   "execution_count": 17,
   "metadata": {},
   "outputs": [
    {
     "data": {
      "text/plain": [
       "-0.4419976105786816"
      ]
     },
     "execution_count": 17,
     "metadata": {},
     "output_type": "execute_result"
    }
   ],
   "source": [
    "np.random.normal()"
   ]
  },
  {
   "cell_type": "code",
   "execution_count": 18,
   "metadata": {},
   "outputs": [
    {
     "data": {
      "text/plain": [
       "array([[2, 3],\n",
       "       [4, 5]])"
      ]
     },
     "execution_count": 18,
     "metadata": {},
     "output_type": "execute_result"
    }
   ],
   "source": [
    "np.array([[2,3],[4,5]])"
   ]
  },
  {
   "cell_type": "markdown",
   "id": "486fee9e",
   "metadata": {},
   "source": [
    "## 3. Mean Absolute Distance (MAD)\n",
    "- Mean of the absolute distances of all points from the mean.<br>\n",
    "- The Standard deviation penalizes longer distances more than shorter distsances fomr the mean\n",
    "- MAD however penalizes all distances equally"
   ]
  },
  {
   "cell_type": "code",
   "execution_count": 19,
   "id": "bc5a2325",
   "metadata": {},
   "outputs": [
    {
     "data": {
      "text/plain": [
       "0    144.8\n",
       "1    161.8\n",
       "2    101.8\n",
       "3    255.8\n",
       "4   -122.2\n",
       "5      9.8\n",
       "6   -203.2\n",
       "7   -137.2\n",
       "8   -114.2\n",
       "9    -97.2\n",
       "Name: col1, dtype: float64"
      ]
     },
     "execution_count": 19,
     "metadata": {},
     "output_type": "execute_result"
    }
   ],
   "source": [
    "dists = sample_df[\"col1\"] - np.mean(sample_df[\"col1\"])\n",
    "dists"
   ]
  },
  {
   "cell_type": "code",
   "execution_count": 20,
   "id": "37dd4502",
   "metadata": {},
   "outputs": [
    {
     "data": {
      "text/plain": [
       "np.float64(134.8)"
      ]
     },
     "execution_count": 20,
     "metadata": {},
     "output_type": "execute_result"
    }
   ],
   "source": [
    "np.mean(np.abs(dists))"
   ]
  },
  {
   "cell_type": "markdown",
   "id": "e7ea5e0c",
   "metadata": {},
   "source": [
    "## 4. Quartiles\n",
    "- Quantiles divide a dataset into equal-sized intervals, each containing the same number of data points.<br>\n",
    "- So Quartiles divide the data into 4 equal parts."
   ]
  },
  {
   "cell_type": "code",
   "execution_count": 21,
   "id": "e2ef941e",
   "metadata": {},
   "outputs": [
    {
     "data": {
      "text/plain": [
       "np.float64(191.5)"
      ]
     },
     "execution_count": 21,
     "metadata": {},
     "output_type": "execute_result"
    }
   ],
   "source": [
    "np.quantile(sample_df[\"col1\"],0.5)"
   ]
  },
  {
   "cell_type": "code",
   "execution_count": 22,
   "id": "767834e6",
   "metadata": {},
   "outputs": [
    {
     "data": {
      "text/plain": [
       "array([ 32.  , 115.  , 191.5 , 369.25, 491.  ])"
      ]
     },
     "execution_count": 22,
     "metadata": {},
     "output_type": "execute_result"
    }
   ],
   "source": [
    "np.quantile(sample_df[\"col1\"],[0,0.25,0.5,0.75,1])"
   ]
  },
  {
   "cell_type": "markdown",
   "id": "05397df3",
   "metadata": {},
   "source": [
    "Creating a box plot for the `sample_df` dataset"
   ]
  },
  {
   "cell_type": "code",
   "execution_count": 23,
   "id": "b5262122",
   "metadata": {},
   "outputs": [
    {
     "data": {
      "image/png": "[encoded data removed]",
      "text/plain": [
       "<Figure size 800x400 with 1 Axes>"
      ]
     },
     "metadata": {},
     "output_type": "display_data"
    }
   ],
   "source": [
    "fig,ax = plt.subplots(figsize=(8,4))\n",
    "\n",
    "plt.boxplot(sample_df[\"col1\"],vert=False,\n",
    "            boxprops=dict(color='blue'),\n",
    "            medianprops=dict(color='orange'),\n",
    "            whiskerprops=dict(color=\"grey\"),\n",
    "            capprops=dict(color=\"grey\"),\n",
    "            flierprops=dict(marker='o', markerfacecolor='red', markersize=10))\n",
    "# Enabling grid\n",
    "ax.grid(True, linestyle='--', alpha=0.6)\n",
    "ax.set_yticklabels(['col1'])\n",
    "\n",
    "# Adding annotations\n",
    "q1 = sample_df['col1'].quantile(0.25)\n",
    "q2 = sample_df['col1'].quantile(0.5)  # median\n",
    "q3 = sample_df['col1'].quantile(0.75)\n",
    "min_val = sample_df['col1'].min()\n",
    "max_val = sample_df['col1'].max()\n",
    "\n",
    "ax.annotate(f'Q1: {q1}', xy=(q1, 1.05), xytext=(q1 - 10, 1.2),\n",
    "            arrowprops=dict(facecolor='black', arrowstyle='->'),\n",
    "            fontsize=10, ha='center')\n",
    "\n",
    "ax.annotate(f'Median: {q2}', xy=(q2, 1.05), xytext=(q2, 1.25),\n",
    "            arrowprops=dict(facecolor='black', arrowstyle='->'), \n",
    "            fontsize=10, ha='center')\n",
    "\n",
    "ax.annotate(f'Q3: {q3}', xy=(q3, 1.05), xytext=(q3 + 10, 1.2),\n",
    "            arrowprops=dict(facecolor='black', arrowstyle='->'),\n",
    "            fontsize=10, ha='center')\n",
    "\n",
    "ax.annotate(f'Min: {min_val}', xy=(min_val, 1.05), xytext=(min_val - 10, 1.2),\n",
    "            arrowprops=dict(facecolor='black', arrowstyle='->'),\n",
    "            fontsize=10, ha='center')\n",
    "\n",
    "ax.annotate(f'Max: {max_val}', xy=(max_val, 1.05), xytext=(max_val + 10, 1.2),\n",
    "            arrowprops=dict(facecolor='black', arrowstyle='->'),\n",
    "            fontsize=10, ha='center')\n",
    "\n",
    "plt.show()"
   ]
  },
  {
   "cell_type": "code",
   "execution_count": 24,
   "id": "28a6f39d",
   "metadata": {},
   "outputs": [
    {
     "data": {
      "text/plain": [
       "np.float64(254.25)"
      ]
     },
     "execution_count": 24,
     "metadata": {},
     "output_type": "execute_result"
    }
   ],
   "source": [
    "# How IQR is calculated\n",
    "np.quantile(sample_df[\"col1\"],0.75) - np.quantile(sample_df[\"col1\"], 0.25)\n",
    "# This is the height of the boxplot"
   ]
  },
  {
   "cell_type": "code",
   "execution_count": 25,
   "id": "21f1479d",
   "metadata": {},
   "outputs": [
    {
     "data": {
      "text/plain": [
       "np.float64(235.2)"
      ]
     },
     "execution_count": 25,
     "metadata": {},
     "output_type": "execute_result"
    }
   ],
   "source": [
    "np.mean(sample_df[\"col1\"])"
   ]
  },
  {
   "cell_type": "code",
   "execution_count": 26,
   "id": "15589085",
   "metadata": {},
   "outputs": [
    {
     "data": {
      "text/plain": [
       "np.float64(191.5)"
      ]
     },
     "execution_count": 26,
     "metadata": {},
     "output_type": "execute_result"
    }
   ],
   "source": [
    "np.median(sample_df[\"col1\"])"
   ]
  },
  {
   "cell_type": "markdown",
   "id": "8a472e98",
   "metadata": {},
   "source": [
    "### Finding outliers\n",
    "Finding those values that are below Q1 and above Q3"
   ]
  },
  {
   "cell_type": "code",
   "execution_count": 27,
   "id": "452b2037",
   "metadata": {},
   "outputs": [],
   "source": [
    "from scipy.stats import iqr"
   ]
  },
  {
   "cell_type": "code",
   "execution_count": 28,
   "id": "a9e70a88",
   "metadata": {},
   "outputs": [
    {
     "name": "stdout",
     "output_type": "stream",
     "text": [
      "254.25\n"
     ]
    }
   ],
   "source": [
    "iqr = iqr(sample_df[\"col1\"])\n",
    "print(iqr)"
   ]
  },
  {
   "cell_type": "code",
   "execution_count": 29,
   "id": "547f377b",
   "metadata": {},
   "outputs": [
    {
     "name": "stdout",
     "output_type": "stream",
     "text": [
      "Lower than:-266.375 , Higher than:750.625\n"
     ]
    }
   ],
   "source": [
    "lower_thresholds = np.quantile(sample_df[\"col1\"],0.25) - 1.5 * iqr\n",
    "upper_thresholds = np.quantile(sample_df[\"col1\"], 0.75) + 1.5 * iqr\n",
    "print(f'Lower than:{lower_thresholds} , Higher than:{upper_thresholds}')"
   ]
  },
  {
   "cell_type": "markdown",
   "id": "69a14a4f",
   "metadata": {},
   "source": [
    "Now filtering from the dataset"
   ]
  },
  {
   "cell_type": "code",
   "execution_count": 30,
   "id": "90077e61",
   "metadata": {},
   "outputs": [
    {
     "data": {
      "text/html": [
       "<div>\n",
       "<style scoped>\n",
       "    .dataframe tbody tr th:only-of-type {\n",
       "        vertical-align: middle;\n",
       "    }\n",
       "\n",
       "    .dataframe tbody tr th {\n",
       "        vertical-align: top;\n",
       "    }\n",
       "\n",
       "    .dataframe thead th {\n",
       "        text-align: right;\n",
       "    }\n",
       "</style>\n",
       "<table border=\"1\" class=\"dataframe\">\n",
       "  <thead>\n",
       "    <tr style=\"text-align: right;\">\n",
       "      <th></th>\n",
       "      <th>col1</th>\n",
       "    </tr>\n",
       "  </thead>\n",
       "  <tbody>\n",
       "  </tbody>\n",
       "</table>\n",
       "</div>"
      ],
      "text/plain": [
       "Empty DataFrame\n",
       "Columns: [col1]\n",
       "Index: []"
      ]
     },
     "execution_count": 30,
     "metadata": {},
     "output_type": "execute_result"
    }
   ],
   "source": [
    "sample_df[(sample_df[\"col1\"]< lower_thresholds) | (sample_df[\"col1\"]> upper_thresholds)]"
   ]
  },
  {
   "cell_type": "markdown",
   "id": "232e5214",
   "metadata": {},
   "source": [
    "In our example, we dont have any outliers"
   ]
  },
  {
   "cell_type": "markdown",
   "id": "d68c37f4",
   "metadata": {},
   "source": [
    "___\n",
    "## Test questions\n",
    "Applying measures of center & spread to the `foodcon` dataset"
   ]
  },
  {
   "cell_type": "code",
   "execution_count": 31,
   "id": "6730fa1f",
   "metadata": {},
   "outputs": [
    {
     "name": "stderr",
     "output_type": "stream",
     "text": [
      "C:\\Users\\ABHIJEET.BHAMBERE\\AppData\\Local\\Temp\\ipykernel_30644\\405836586.py:1: FutureWarning: The provided callable <function var at 0x000001BAB99AF740> is currently using SeriesGroupBy.var. In a future version of pandas, the provided callable will be used directly. To keep current behavior pass the string \"var\" instead.\n",
      "  foodcon.groupby(\"food_category\")[\"co2_emission\"].agg([np.var,np.std])\n",
      "C:\\Users\\ABHIJEET.BHAMBERE\\AppData\\Local\\Temp\\ipykernel_30644\\405836586.py:1: FutureWarning: The provided callable <function std at 0x000001BAB99AF600> is currently using SeriesGroupBy.std. In a future version of pandas, the provided callable will be used directly. To keep current behavior pass the string \"std\" instead.\n",
      "  foodcon.groupby(\"food_category\")[\"co2_emission\"].agg([np.var,np.std])\n"
     ]
    },
    {
     "data": {
      "text/html": [
       "<div>\n",
       "<style scoped>\n",
       "    .dataframe tbody tr th:only-of-type {\n",
       "        vertical-align: middle;\n",
       "    }\n",
       "\n",
       "    .dataframe tbody tr th {\n",
       "        vertical-align: top;\n",
       "    }\n",
       "\n",
       "    .dataframe thead th {\n",
       "        text-align: right;\n",
       "    }\n",
       "</style>\n",
       "<table border=\"1\" class=\"dataframe\">\n",
       "  <thead>\n",
       "    <tr style=\"text-align: right;\">\n",
       "      <th></th>\n",
       "      <th>var</th>\n",
       "      <th>std</th>\n",
       "    </tr>\n",
       "    <tr>\n",
       "      <th>food_category</th>\n",
       "      <th></th>\n",
       "      <th></th>\n",
       "    </tr>\n",
       "  </thead>\n",
       "  <tbody>\n",
       "    <tr>\n",
       "      <th>beef</th>\n",
       "      <td>88748.408132</td>\n",
       "      <td>297.906710</td>\n",
       "    </tr>\n",
       "    <tr>\n",
       "      <th>dairy</th>\n",
       "      <td>17671.891985</td>\n",
       "      <td>132.935669</td>\n",
       "    </tr>\n",
       "    <tr>\n",
       "      <th>eggs</th>\n",
       "      <td>21.371819</td>\n",
       "      <td>4.622966</td>\n",
       "    </tr>\n",
       "    <tr>\n",
       "      <th>fish</th>\n",
       "      <td>921.637349</td>\n",
       "      <td>30.358481</td>\n",
       "    </tr>\n",
       "    <tr>\n",
       "      <th>lamb_goat</th>\n",
       "      <td>16475.518363</td>\n",
       "      <td>128.356996</td>\n",
       "    </tr>\n",
       "    <tr>\n",
       "      <th>nuts</th>\n",
       "      <td>35.639652</td>\n",
       "      <td>5.969895</td>\n",
       "    </tr>\n",
       "    <tr>\n",
       "      <th>pork</th>\n",
       "      <td>3094.963537</td>\n",
       "      <td>55.632396</td>\n",
       "    </tr>\n",
       "    <tr>\n",
       "      <th>poultry</th>\n",
       "      <td>245.026801</td>\n",
       "      <td>15.653332</td>\n",
       "    </tr>\n",
       "    <tr>\n",
       "      <th>rice</th>\n",
       "      <td>2281.376243</td>\n",
       "      <td>47.763754</td>\n",
       "    </tr>\n",
       "    <tr>\n",
       "      <th>soybeans</th>\n",
       "      <td>0.879882</td>\n",
       "      <td>0.938020</td>\n",
       "    </tr>\n",
       "    <tr>\n",
       "      <th>wheat</th>\n",
       "      <td>71.023937</td>\n",
       "      <td>8.427570</td>\n",
       "    </tr>\n",
       "  </tbody>\n",
       "</table>\n",
       "</div>"
      ],
      "text/plain": [
       "                        var         std\n",
       "food_category                          \n",
       "beef           88748.408132  297.906710\n",
       "dairy          17671.891985  132.935669\n",
       "eggs              21.371819    4.622966\n",
       "fish             921.637349   30.358481\n",
       "lamb_goat      16475.518363  128.356996\n",
       "nuts              35.639652    5.969895\n",
       "pork            3094.963537   55.632396\n",
       "poultry          245.026801   15.653332\n",
       "rice            2281.376243   47.763754\n",
       "soybeans           0.879882    0.938020\n",
       "wheat             71.023937    8.427570"
      ]
     },
     "execution_count": 31,
     "metadata": {},
     "output_type": "execute_result"
    }
   ],
   "source": [
    "foodcon.groupby(\"food_category\")[\"co2_emission\"].agg([np.var,np.std])"
   ]
  },
  {
   "cell_type": "code",
   "execution_count": 32,
   "id": "da309d3a",
   "metadata": {},
   "outputs": [
    {
     "data": {
      "image/png": "[encoded data removed]",
      "text/plain": [
       "<Figure size 1000x500 with 1 Axes>"
      ]
     },
     "metadata": {},
     "output_type": "display_data"
    }
   ],
   "source": [
    "fig,ax = plt.subplots(figsize=(10,5))\n",
    "ax.hist(foodcon[foodcon[\"food_category\"]==\"fish\"][\"co2_emission\"],histtype='step')\n",
    "ax.hist(foodcon[foodcon[\"food_category\"]==\"rice\"][\"co2_emission\"],histtype='step')\n",
    "\n",
    "plt.show()"
   ]
  },
  {
   "cell_type": "markdown",
   "id": "329a1920",
   "metadata": {},
   "source": [
    "_So it can be observed that consumption for both food categories is positively skewed (right-skewed)_ <br><br>\n",
    "\n",
    "**Next Question:** finding quartiles"
   ]
  },
  {
   "cell_type": "code",
   "execution_count": 33,
   "id": "d96568b9",
   "metadata": {},
   "outputs": [
    {
     "data": {
      "text/plain": [
       "array([   0.    ,    5.21  ,   16.53  ,   62.5975, 1712.    ])"
      ]
     },
     "execution_count": 33,
     "metadata": {},
     "output_type": "execute_result"
    }
   ],
   "source": [
    "foodcon.head()\n",
    "np.quantile(foodcon[\"co2_emission\"], np.linspace(0,1,5))"
   ]
  },
  {
   "cell_type": "code",
   "execution_count": 34,
   "id": "1e30ec84",
   "metadata": {},
   "outputs": [
    {
     "data": {
      "text/plain": [
       "country\n",
       "Albania      1777.85\n",
       "Algeria       707.88\n",
       "Angola        412.99\n",
       "Argentina    2172.40\n",
       "Armenia      1109.93\n",
       "              ...   \n",
       "Uruguay      1634.91\n",
       "Venezuela    1104.10\n",
       "Vietnam       641.51\n",
       "Zambia        225.30\n",
       "Zimbabwe      350.33\n",
       "Name: co2_emission, Length: 130, dtype: float64"
      ]
     },
     "execution_count": 34,
     "metadata": {},
     "output_type": "execute_result"
    }
   ],
   "source": [
    "# Calculating CO2 emmission per country\n",
    "co2ems_by_country = foodcon.groupby(\"country\")[\"co2_emission\"].agg(\"sum\")\n",
    "co2ems_by_country"
   ]
  },
  {
   "cell_type": "code",
   "execution_count": 35,
   "id": "1f2b1a2c",
   "metadata": {},
   "outputs": [],
   "source": [
    "foodcon_q1 = np.quantile(co2ems_by_country,0.25)\n",
    "foodcon_q3 = np.quantile(co2ems_by_country, 0.75)\n",
    "foodcon_iqr = foodcon_q3 - foodcon_q1"
   ]
  },
  {
   "cell_type": "code",
   "execution_count": 36,
   "id": "62dfb132",
   "metadata": {},
   "outputs": [],
   "source": [
    "lowerthresh = foodcon_q1 - (1.5 * foodcon_iqr)\n",
    "upperthresh = foodcon_q3 + (1.5 * foodcon_iqr)"
   ]
  },
  {
   "cell_type": "code",
   "execution_count": 37,
   "id": "cddfe62b",
   "metadata": {},
   "outputs": [
    {
     "data": {
      "text/plain": [
       "country\n",
       "Argentina    2172.4\n",
       "Name: co2_emission, dtype: float64"
      ]
     },
     "execution_count": 37,
     "metadata": {},
     "output_type": "execute_result"
    }
   ],
   "source": [
    "co2ems_by_country[(co2ems_by_country<lowerthresh) | (co2ems_by_country>upperthresh)]"
   ]
  },
  {
   "cell_type": "markdown",
   "id": "5afa0a99",
   "metadata": {},
   "source": [
    "___\n",
    "# 2. Random numbers & probability\n",
    "The `sample` method to select randowm row/ rows from the dataset"
   ]
  },
  {
   "cell_type": "code",
   "execution_count": 38,
   "id": "e81163b6",
   "metadata": {},
   "outputs": [],
   "source": [
    "# Setting the seed to get reproducible results\n",
    "np.random.seed(42)"
   ]
  },
  {
   "cell_type": "code",
   "execution_count": 39,
   "id": "1c925031",
   "metadata": {},
   "outputs": [
    {
     "data": {
      "text/html": [
       "<div>\n",
       "<style scoped>\n",
       "    .dataframe tbody tr th:only-of-type {\n",
       "        vertical-align: middle;\n",
       "    }\n",
       "\n",
       "    .dataframe tbody tr th {\n",
       "        vertical-align: top;\n",
       "    }\n",
       "\n",
       "    .dataframe thead th {\n",
       "        text-align: right;\n",
       "    }\n",
       "</style>\n",
       "<table border=\"1\" class=\"dataframe\">\n",
       "  <thead>\n",
       "    <tr style=\"text-align: right;\">\n",
       "      <th></th>\n",
       "      <th>col1</th>\n",
       "    </tr>\n",
       "  </thead>\n",
       "  <tbody>\n",
       "    <tr>\n",
       "      <th>8</th>\n",
       "      <td>121</td>\n",
       "    </tr>\n",
       "  </tbody>\n",
       "</table>\n",
       "</div>"
      ],
      "text/plain": [
       "   col1\n",
       "8   121"
      ]
     },
     "execution_count": 39,
     "metadata": {},
     "output_type": "execute_result"
    }
   ],
   "source": [
    "# Picking a random sample from a dataframe without replacement\n",
    "np.random.seed(42)\n",
    "sample_df.sample()"
   ]
  },
  {
   "cell_type": "code",
   "execution_count": 40,
   "id": "5cdb4ba7",
   "metadata": {},
   "outputs": [
    {
     "data": {
      "text/html": [
       "<div>\n",
       "<style scoped>\n",
       "    .dataframe tbody tr th:only-of-type {\n",
       "        vertical-align: middle;\n",
       "    }\n",
       "\n",
       "    .dataframe tbody tr th {\n",
       "        vertical-align: top;\n",
       "    }\n",
       "\n",
       "    .dataframe thead th {\n",
       "        text-align: right;\n",
       "    }\n",
       "</style>\n",
       "<table border=\"1\" class=\"dataframe\">\n",
       "  <thead>\n",
       "    <tr style=\"text-align: right;\">\n",
       "      <th></th>\n",
       "      <th>col1</th>\n",
       "    </tr>\n",
       "  </thead>\n",
       "  <tbody>\n",
       "    <tr>\n",
       "      <th>8</th>\n",
       "      <td>121</td>\n",
       "    </tr>\n",
       "    <tr>\n",
       "      <th>1</th>\n",
       "      <td>397</td>\n",
       "    </tr>\n",
       "    <tr>\n",
       "      <th>5</th>\n",
       "      <td>245</td>\n",
       "    </tr>\n",
       "    <tr>\n",
       "      <th>0</th>\n",
       "      <td>380</td>\n",
       "    </tr>\n",
       "    <tr>\n",
       "      <th>7</th>\n",
       "      <td>98</td>\n",
       "    </tr>\n",
       "    <tr>\n",
       "      <th>2</th>\n",
       "      <td>337</td>\n",
       "    </tr>\n",
       "  </tbody>\n",
       "</table>\n",
       "</div>"
      ],
      "text/plain": [
       "   col1\n",
       "8   121\n",
       "1   397\n",
       "5   245\n",
       "0   380\n",
       "7    98\n",
       "2   337"
      ]
     },
     "execution_count": 40,
     "metadata": {},
     "output_type": "execute_result"
    }
   ],
   "source": [
    "# Picking multiple samples without replacemcement\n",
    "np.random.seed(42)\n",
    "sample_df.sample(n=6)"
   ]
  },
  {
   "cell_type": "code",
   "execution_count": 41,
   "id": "6cd68516",
   "metadata": {},
   "outputs": [
    {
     "data": {
      "text/html": [
       "<div>\n",
       "<style scoped>\n",
       "    .dataframe tbody tr th:only-of-type {\n",
       "        vertical-align: middle;\n",
       "    }\n",
       "\n",
       "    .dataframe tbody tr th {\n",
       "        vertical-align: top;\n",
       "    }\n",
       "\n",
       "    .dataframe thead th {\n",
       "        text-align: right;\n",
       "    }\n",
       "</style>\n",
       "<table border=\"1\" class=\"dataframe\">\n",
       "  <thead>\n",
       "    <tr style=\"text-align: right;\">\n",
       "      <th></th>\n",
       "      <th>col1</th>\n",
       "    </tr>\n",
       "  </thead>\n",
       "  <tbody>\n",
       "    <tr>\n",
       "      <th>6</th>\n",
       "      <td>32</td>\n",
       "    </tr>\n",
       "    <tr>\n",
       "      <th>3</th>\n",
       "      <td>491</td>\n",
       "    </tr>\n",
       "    <tr>\n",
       "      <th>7</th>\n",
       "      <td>98</td>\n",
       "    </tr>\n",
       "    <tr>\n",
       "      <th>4</th>\n",
       "      <td>113</td>\n",
       "    </tr>\n",
       "    <tr>\n",
       "      <th>6</th>\n",
       "      <td>32</td>\n",
       "    </tr>\n",
       "    <tr>\n",
       "      <th>9</th>\n",
       "      <td>138</td>\n",
       "    </tr>\n",
       "  </tbody>\n",
       "</table>\n",
       "</div>"
      ],
      "text/plain": [
       "   col1\n",
       "6    32\n",
       "3   491\n",
       "7    98\n",
       "4   113\n",
       "6    32\n",
       "9   138"
      ]
     },
     "execution_count": 41,
     "metadata": {},
     "output_type": "execute_result"
    }
   ],
   "source": [
    "# Picking multiple samples with replacemcement -- we can see certain rows appear twice\n",
    "np.random.seed(42)\n",
    "sample_df.sample(n=6,replace=True)"
   ]
  },
  {
   "cell_type": "markdown",
   "id": "890cf862",
   "metadata": {},
   "source": [
    "## Test question\n",
    "You're in charge of the sales team, and it's time for performance reviews, starting with Amir. As part of the review, you want to randomly select a few of the deals that he's worked on over the past year so that you can look at them more deeply. Before you start selecting deals, you'll first figure out what the chances are of selecting certain deals"
   ]
  },
  {
   "cell_type": "code",
   "execution_count": 42,
   "id": "de60d06e",
   "metadata": {},
   "outputs": [
    {
     "data": {
      "text/html": [
       "<div>\n",
       "<style scoped>\n",
       "    .dataframe tbody tr th:only-of-type {\n",
       "        vertical-align: middle;\n",
       "    }\n",
       "\n",
       "    .dataframe tbody tr th {\n",
       "        vertical-align: top;\n",
       "    }\n",
       "\n",
       "    .dataframe thead th {\n",
       "        text-align: right;\n",
       "    }\n",
       "</style>\n",
       "<table border=\"1\" class=\"dataframe\">\n",
       "  <thead>\n",
       "    <tr style=\"text-align: right;\">\n",
       "      <th></th>\n",
       "      <th>Unnamed: 0</th>\n",
       "      <th>product</th>\n",
       "      <th>client</th>\n",
       "      <th>status</th>\n",
       "      <th>amount</th>\n",
       "      <th>num_users</th>\n",
       "    </tr>\n",
       "  </thead>\n",
       "  <tbody>\n",
       "    <tr>\n",
       "      <th>0</th>\n",
       "      <td>1</td>\n",
       "      <td>Product F</td>\n",
       "      <td>Current</td>\n",
       "      <td>Won</td>\n",
       "      <td>7389.52</td>\n",
       "      <td>19</td>\n",
       "    </tr>\n",
       "    <tr>\n",
       "      <th>1</th>\n",
       "      <td>2</td>\n",
       "      <td>Product C</td>\n",
       "      <td>New</td>\n",
       "      <td>Won</td>\n",
       "      <td>4493.01</td>\n",
       "      <td>43</td>\n",
       "    </tr>\n",
       "    <tr>\n",
       "      <th>2</th>\n",
       "      <td>3</td>\n",
       "      <td>Product B</td>\n",
       "      <td>New</td>\n",
       "      <td>Won</td>\n",
       "      <td>5738.09</td>\n",
       "      <td>87</td>\n",
       "    </tr>\n",
       "    <tr>\n",
       "      <th>3</th>\n",
       "      <td>4</td>\n",
       "      <td>Product I</td>\n",
       "      <td>Current</td>\n",
       "      <td>Won</td>\n",
       "      <td>2591.24</td>\n",
       "      <td>83</td>\n",
       "    </tr>\n",
       "    <tr>\n",
       "      <th>4</th>\n",
       "      <td>5</td>\n",
       "      <td>Product E</td>\n",
       "      <td>Current</td>\n",
       "      <td>Won</td>\n",
       "      <td>6622.97</td>\n",
       "      <td>17</td>\n",
       "    </tr>\n",
       "  </tbody>\n",
       "</table>\n",
       "</div>"
      ],
      "text/plain": [
       "   Unnamed: 0    product   client status   amount  num_users\n",
       "0           1  Product F  Current    Won  7389.52         19\n",
       "1           2  Product C      New    Won  4493.01         43\n",
       "2           3  Product B      New    Won  5738.09         87\n",
       "3           4  Product I  Current    Won  2591.24         83\n",
       "4           5  Product E  Current    Won  6622.97         17"
      ]
     },
     "execution_count": 42,
     "metadata": {},
     "output_type": "execute_result"
    }
   ],
   "source": [
    "amir_deals = pd.read_csv('./course_datasets/stats_datasets/amir_deals.csv')\n",
    "amir_deals.head()"
   ]
  },
  {
   "cell_type": "code",
   "execution_count": 43,
   "id": "1c2eea9b",
   "metadata": {},
   "outputs": [
    {
     "data": {
      "text/plain": [
       "product\n",
       "Product B    62\n",
       "Product D    40\n",
       "Product A    23\n",
       "Product C    15\n",
       "Product F    11\n",
       "Product H     8\n",
       "Product I     7\n",
       "Product E     5\n",
       "Product N     3\n",
       "Product G     2\n",
       "Product J     2\n",
       "Name: count, dtype: int64"
      ]
     },
     "execution_count": 43,
     "metadata": {},
     "output_type": "execute_result"
    }
   ],
   "source": [
    "# Count the number of deals Amir worked on for each product type using .value_counts() and store in counts.\n",
    "counts = amir_deals[\"product\"].value_counts()\n",
    "counts"
   ]
  },
  {
   "cell_type": "code",
   "execution_count": 44,
   "id": "d136ca78",
   "metadata": {},
   "outputs": [
    {
     "data": {
      "text/plain": [
       "178"
      ]
     },
     "execution_count": 44,
     "metadata": {},
     "output_type": "execute_result"
    }
   ],
   "source": [
    "rows, columns = amir_deals.shape\n",
    "rows"
   ]
  },
  {
   "cell_type": "code",
   "execution_count": 45,
   "id": "490f817b",
   "metadata": {},
   "outputs": [
    {
     "data": {
      "text/plain": [
       "178"
      ]
     },
     "execution_count": 45,
     "metadata": {},
     "output_type": "execute_result"
    }
   ],
   "source": [
    "amir_deals.shape[0]"
   ]
  },
  {
   "cell_type": "markdown",
   "id": "9bfc88f6",
   "metadata": {},
   "source": [
    "Finding probabilities for each of the counts: <br>\n",
    "`No. of ways an event occurs / Total no. of possible outcomes`"
   ]
  },
  {
   "cell_type": "code",
   "execution_count": 46,
   "id": "3f938afb",
   "metadata": {},
   "outputs": [
    {
     "data": {
      "text/plain": [
       "product\n",
       "Product B    0.348315\n",
       "Product D    0.224719\n",
       "Product A    0.129213\n",
       "Product C    0.084270\n",
       "Product F    0.061798\n",
       "Product H    0.044944\n",
       "Product I    0.039326\n",
       "Product E    0.028090\n",
       "Product N    0.016854\n",
       "Product G    0.011236\n",
       "Product J    0.011236\n",
       "Name: count, dtype: float64"
      ]
     },
     "execution_count": 46,
     "metadata": {},
     "output_type": "execute_result"
    }
   ],
   "source": [
    "counts / amir_deals.shape[0]"
   ]
  },
  {
   "cell_type": "markdown",
   "id": "dcb4b874",
   "metadata": {},
   "source": [
    "These are the probabilities of picking one deal from each of the product categories\n",
    "______\n",
    "Now it's time to randomly pick five deals so that you can reach out to each customer and ask if they were satisfied with the service they received. You'll try doing this both with and without replacement.<br>\n",
    "Additionally, you want to make sure this is done randomly and that it can be reproduced in case you get asked how you chose the deals, so you'll need to set the random seed before sampling from the deals."
   ]
  },
  {
   "cell_type": "code",
   "execution_count": 47,
   "id": "f1158885",
   "metadata": {},
   "outputs": [
    {
     "data": {
      "text/html": [
       "<div>\n",
       "<style scoped>\n",
       "    .dataframe tbody tr th:only-of-type {\n",
       "        vertical-align: middle;\n",
       "    }\n",
       "\n",
       "    .dataframe tbody tr th {\n",
       "        vertical-align: top;\n",
       "    }\n",
       "\n",
       "    .dataframe thead th {\n",
       "        text-align: right;\n",
       "    }\n",
       "</style>\n",
       "<table border=\"1\" class=\"dataframe\">\n",
       "  <thead>\n",
       "    <tr style=\"text-align: right;\">\n",
       "      <th></th>\n",
       "      <th>Unnamed: 0</th>\n",
       "      <th>product</th>\n",
       "      <th>client</th>\n",
       "      <th>status</th>\n",
       "      <th>amount</th>\n",
       "      <th>num_users</th>\n",
       "    </tr>\n",
       "  </thead>\n",
       "  <tbody>\n",
       "    <tr>\n",
       "      <th>102</th>\n",
       "      <td>103</td>\n",
       "      <td>Product D</td>\n",
       "      <td>New</td>\n",
       "      <td>Lost</td>\n",
       "      <td>1196.53</td>\n",
       "      <td>63</td>\n",
       "    </tr>\n",
       "    <tr>\n",
       "      <th>78</th>\n",
       "      <td>79</td>\n",
       "      <td>Product C</td>\n",
       "      <td>Current</td>\n",
       "      <td>Won</td>\n",
       "      <td>1300.89</td>\n",
       "      <td>42</td>\n",
       "    </tr>\n",
       "    <tr>\n",
       "      <th>55</th>\n",
       "      <td>56</td>\n",
       "      <td>Product I</td>\n",
       "      <td>Current</td>\n",
       "      <td>Won</td>\n",
       "      <td>1606.86</td>\n",
       "      <td>24</td>\n",
       "    </tr>\n",
       "    <tr>\n",
       "      <th>137</th>\n",
       "      <td>138</td>\n",
       "      <td>Product A</td>\n",
       "      <td>Current</td>\n",
       "      <td>Won</td>\n",
       "      <td>5145.01</td>\n",
       "      <td>89</td>\n",
       "    </tr>\n",
       "    <tr>\n",
       "      <th>161</th>\n",
       "      <td>162</td>\n",
       "      <td>Product D</td>\n",
       "      <td>Current</td>\n",
       "      <td>Won</td>\n",
       "      <td>4837.09</td>\n",
       "      <td>31</td>\n",
       "    </tr>\n",
       "  </tbody>\n",
       "</table>\n",
       "</div>"
      ],
      "text/plain": [
       "     Unnamed: 0    product   client status   amount  num_users\n",
       "102         103  Product D      New   Lost  1196.53         63\n",
       "78           79  Product C  Current    Won  1300.89         42\n",
       "55           56  Product I  Current    Won  1606.86         24\n",
       "137         138  Product A  Current    Won  5145.01         89\n",
       "161         162  Product D  Current    Won  4837.09         31"
      ]
     },
     "execution_count": 47,
     "metadata": {},
     "output_type": "execute_result"
    }
   ],
   "source": [
    "# With replacement\n",
    "amir_deals.sample(n=5)"
   ]
  },
  {
   "cell_type": "code",
   "execution_count": 48,
   "id": "af1b896f",
   "metadata": {},
   "outputs": [
    {
     "data": {
      "text/html": [
       "<div>\n",
       "<style scoped>\n",
       "    .dataframe tbody tr th:only-of-type {\n",
       "        vertical-align: middle;\n",
       "    }\n",
       "\n",
       "    .dataframe tbody tr th {\n",
       "        vertical-align: top;\n",
       "    }\n",
       "\n",
       "    .dataframe thead th {\n",
       "        text-align: right;\n",
       "    }\n",
       "</style>\n",
       "<table border=\"1\" class=\"dataframe\">\n",
       "  <thead>\n",
       "    <tr style=\"text-align: right;\">\n",
       "      <th></th>\n",
       "      <th>Unnamed: 0</th>\n",
       "      <th>product</th>\n",
       "      <th>client</th>\n",
       "      <th>status</th>\n",
       "      <th>amount</th>\n",
       "      <th>num_users</th>\n",
       "    </tr>\n",
       "  </thead>\n",
       "  <tbody>\n",
       "    <tr>\n",
       "      <th>171</th>\n",
       "      <td>172</td>\n",
       "      <td>Product D</td>\n",
       "      <td>Current</td>\n",
       "      <td>Won</td>\n",
       "      <td>1340.15</td>\n",
       "      <td>66</td>\n",
       "    </tr>\n",
       "    <tr>\n",
       "      <th>151</th>\n",
       "      <td>152</td>\n",
       "      <td>Product D</td>\n",
       "      <td>Current</td>\n",
       "      <td>Won</td>\n",
       "      <td>6221.36</td>\n",
       "      <td>2</td>\n",
       "    </tr>\n",
       "    <tr>\n",
       "      <th>58</th>\n",
       "      <td>59</td>\n",
       "      <td>Product B</td>\n",
       "      <td>Current</td>\n",
       "      <td>Won</td>\n",
       "      <td>6558.74</td>\n",
       "      <td>90</td>\n",
       "    </tr>\n",
       "    <tr>\n",
       "      <th>117</th>\n",
       "      <td>118</td>\n",
       "      <td>Product D</td>\n",
       "      <td>Current</td>\n",
       "      <td>Lost</td>\n",
       "      <td>3416.82</td>\n",
       "      <td>12</td>\n",
       "    </tr>\n",
       "    <tr>\n",
       "      <th>159</th>\n",
       "      <td>160</td>\n",
       "      <td>Product B</td>\n",
       "      <td>Current</td>\n",
       "      <td>Won</td>\n",
       "      <td>1676.09</td>\n",
       "      <td>29</td>\n",
       "    </tr>\n",
       "  </tbody>\n",
       "</table>\n",
       "</div>"
      ],
      "text/plain": [
       "     Unnamed: 0    product   client status   amount  num_users\n",
       "171         172  Product D  Current    Won  1340.15         66\n",
       "151         152  Product D  Current    Won  6221.36          2\n",
       "58           59  Product B  Current    Won  6558.74         90\n",
       "117         118  Product D  Current   Lost  3416.82         12\n",
       "159         160  Product B  Current    Won  1676.09         29"
      ]
     },
     "execution_count": 48,
     "metadata": {},
     "output_type": "execute_result"
    }
   ],
   "source": [
    "# Without replacement\n",
    "amir_deals.sample(n=5,replace=True)"
   ]
  },
  {
   "cell_type": "code",
   "execution_count": 49,
   "id": "5d44a44f",
   "metadata": {},
   "outputs": [
    {
     "data": {
      "text/html": [
       "<div>\n",
       "<style scoped>\n",
       "    .dataframe tbody tr th:only-of-type {\n",
       "        vertical-align: middle;\n",
       "    }\n",
       "\n",
       "    .dataframe tbody tr th {\n",
       "        vertical-align: top;\n",
       "    }\n",
       "\n",
       "    .dataframe thead th {\n",
       "        text-align: right;\n",
       "    }\n",
       "</style>\n",
       "<table border=\"1\" class=\"dataframe\">\n",
       "  <thead>\n",
       "    <tr style=\"text-align: right;\">\n",
       "      <th></th>\n",
       "      <th>number</th>\n",
       "    </tr>\n",
       "  </thead>\n",
       "  <tbody>\n",
       "    <tr>\n",
       "      <th>0</th>\n",
       "      <td>1</td>\n",
       "    </tr>\n",
       "    <tr>\n",
       "      <th>1</th>\n",
       "      <td>2</td>\n",
       "    </tr>\n",
       "    <tr>\n",
       "      <th>2</th>\n",
       "      <td>3</td>\n",
       "    </tr>\n",
       "    <tr>\n",
       "      <th>3</th>\n",
       "      <td>4</td>\n",
       "    </tr>\n",
       "    <tr>\n",
       "      <th>4</th>\n",
       "      <td>5</td>\n",
       "    </tr>\n",
       "    <tr>\n",
       "      <th>5</th>\n",
       "      <td>6</td>\n",
       "    </tr>\n",
       "  </tbody>\n",
       "</table>\n",
       "</div>"
      ],
      "text/plain": [
       "   number\n",
       "0       1\n",
       "1       2\n",
       "2       3\n",
       "3       4\n",
       "4       5\n",
       "5       6"
      ]
     },
     "execution_count": 49,
     "metadata": {},
     "output_type": "execute_result"
    }
   ],
   "source": [
    "dice = pd.DataFrame({\"number\":[1,2,3,4,5,6]})\n",
    "dice"
   ]
  },
  {
   "cell_type": "markdown",
   "id": "27c49489",
   "metadata": {},
   "source": [
    "______\n",
    "# Types of Probability Distributions\n",
    "## 1. Discrete distributions\n",
    "### A. Mean probability in fair die roll"
   ]
  },
  {
   "cell_type": "code",
   "execution_count": 50,
   "metadata": {},
   "outputs": [
    {
     "data": {
      "text/html": [
       "<div>\n",
       "<style scoped>\n",
       "    .dataframe tbody tr th:only-of-type {\n",
       "        vertical-align: middle;\n",
       "    }\n",
       "\n",
       "    .dataframe tbody tr th {\n",
       "        vertical-align: top;\n",
       "    }\n",
       "\n",
       "    .dataframe thead th {\n",
       "        text-align: right;\n",
       "    }\n",
       "</style>\n",
       "<table border=\"1\" class=\"dataframe\">\n",
       "  <thead>\n",
       "    <tr style=\"text-align: right;\">\n",
       "      <th></th>\n",
       "      <th>number</th>\n",
       "      <th>prob</th>\n",
       "    </tr>\n",
       "  </thead>\n",
       "  <tbody>\n",
       "    <tr>\n",
       "      <th>0</th>\n",
       "      <td>1</td>\n",
       "      <td>0.166667</td>\n",
       "    </tr>\n",
       "    <tr>\n",
       "      <th>1</th>\n",
       "      <td>2</td>\n",
       "      <td>0.166667</td>\n",
       "    </tr>\n",
       "    <tr>\n",
       "      <th>2</th>\n",
       "      <td>3</td>\n",
       "      <td>0.166667</td>\n",
       "    </tr>\n",
       "    <tr>\n",
       "      <th>3</th>\n",
       "      <td>4</td>\n",
       "      <td>0.166667</td>\n",
       "    </tr>\n",
       "    <tr>\n",
       "      <th>4</th>\n",
       "      <td>5</td>\n",
       "      <td>0.166667</td>\n",
       "    </tr>\n",
       "    <tr>\n",
       "      <th>5</th>\n",
       "      <td>6</td>\n",
       "      <td>0.166667</td>\n",
       "    </tr>\n",
       "  </tbody>\n",
       "</table>\n",
       "</div>"
      ],
      "text/plain": [
       "   number      prob\n",
       "0       1  0.166667\n",
       "1       2  0.166667\n",
       "2       3  0.166667\n",
       "3       4  0.166667\n",
       "4       5  0.166667\n",
       "5       6  0.166667"
      ]
     },
     "execution_count": 50,
     "metadata": {},
     "output_type": "execute_result"
    }
   ],
   "source": [
    "dice[\"prob\"] = dice[\"number\"].map(dice[\"number\"].value_counts(normalize=True))\n",
    "dice"
   ]
  },
  {
   "cell_type": "code",
   "execution_count": 51,
   "id": "1f51a91d",
   "metadata": {},
   "outputs": [
    {
     "data": {
      "text/plain": [
       "np.float64(3.5)"
      ]
     },
     "execution_count": 51,
     "metadata": {},
     "output_type": "execute_result"
    }
   ],
   "source": [
    "np.mean(dice[\"number\"])"
   ]
  },
  {
   "cell_type": "markdown",
   "id": "617ed862",
   "metadata": {},
   "source": [
    "This is the expected value in a fair die roll. <br><br>\n",
    "### B. Mean probability in a sample of _n_ die rolls\n",
    "Now simulating 10 die rolls:"
   ]
  },
  {
   "cell_type": "code",
   "execution_count": 52,
   "id": "8c9b0753",
   "metadata": {},
   "outputs": [
    {
     "data": {
      "text/html": [
       "<div>\n",
       "<style scoped>\n",
       "    .dataframe tbody tr th:only-of-type {\n",
       "        vertical-align: middle;\n",
       "    }\n",
       "\n",
       "    .dataframe tbody tr th {\n",
       "        vertical-align: top;\n",
       "    }\n",
       "\n",
       "    .dataframe thead th {\n",
       "        text-align: right;\n",
       "    }\n",
       "</style>\n",
       "<table border=\"1\" class=\"dataframe\">\n",
       "  <thead>\n",
       "    <tr style=\"text-align: right;\">\n",
       "      <th></th>\n",
       "      <th>number</th>\n",
       "      <th>prob</th>\n",
       "    </tr>\n",
       "  </thead>\n",
       "  <tbody>\n",
       "    <tr>\n",
       "      <th>0</th>\n",
       "      <td>1</td>\n",
       "      <td>0.166667</td>\n",
       "    </tr>\n",
       "    <tr>\n",
       "      <th>0</th>\n",
       "      <td>1</td>\n",
       "      <td>0.166667</td>\n",
       "    </tr>\n",
       "    <tr>\n",
       "      <th>3</th>\n",
       "      <td>4</td>\n",
       "      <td>0.166667</td>\n",
       "    </tr>\n",
       "    <tr>\n",
       "      <th>0</th>\n",
       "      <td>1</td>\n",
       "      <td>0.166667</td>\n",
       "    </tr>\n",
       "    <tr>\n",
       "      <th>2</th>\n",
       "      <td>3</td>\n",
       "      <td>0.166667</td>\n",
       "    </tr>\n",
       "    <tr>\n",
       "      <th>4</th>\n",
       "      <td>5</td>\n",
       "      <td>0.166667</td>\n",
       "    </tr>\n",
       "    <tr>\n",
       "      <th>2</th>\n",
       "      <td>3</td>\n",
       "      <td>0.166667</td>\n",
       "    </tr>\n",
       "    <tr>\n",
       "      <th>5</th>\n",
       "      <td>6</td>\n",
       "      <td>0.166667</td>\n",
       "    </tr>\n",
       "    <tr>\n",
       "      <th>2</th>\n",
       "      <td>3</td>\n",
       "      <td>0.166667</td>\n",
       "    </tr>\n",
       "    <tr>\n",
       "      <th>2</th>\n",
       "      <td>3</td>\n",
       "      <td>0.166667</td>\n",
       "    </tr>\n",
       "  </tbody>\n",
       "</table>\n",
       "</div>"
      ],
      "text/plain": [
       "   number      prob\n",
       "0       1  0.166667\n",
       "0       1  0.166667\n",
       "3       4  0.166667\n",
       "0       1  0.166667\n",
       "2       3  0.166667\n",
       "4       5  0.166667\n",
       "2       3  0.166667\n",
       "5       6  0.166667\n",
       "2       3  0.166667\n",
       "2       3  0.166667"
      ]
     },
     "execution_count": 52,
     "metadata": {},
     "output_type": "execute_result"
    }
   ],
   "source": [
    "np.random.seed(100)\n",
    "ten_rolls = dice.sample(n=10,replace=True)\n",
    "ten_rolls"
   ]
  },
  {
   "cell_type": "code",
   "execution_count": 53,
   "id": "787cff10",
   "metadata": {},
   "outputs": [
    {
     "data": {
      "text/plain": [
       "<Axes: >"
      ]
     },
     "execution_count": 53,
     "metadata": {},
     "output_type": "execute_result"
    },
    {
     "data": {
      "image/png": "[encoded data removed]",
      "text/plain": [
       "<Figure size 640x480 with 1 Axes>"
      ]
     },
     "metadata": {},
     "output_type": "display_data"
    }
   ],
   "source": [
    "ten_rolls[\"number\"].hist()"
   ]
  },
  {
   "cell_type": "code",
   "execution_count": 54,
   "id": "18642746",
   "metadata": {},
   "outputs": [
    {
     "data": {
      "text/plain": [
       "np.float64(3.0)"
      ]
     },
     "execution_count": 54,
     "metadata": {},
     "output_type": "execute_result"
    }
   ],
   "source": [
    "ten_rolls[\"number\"].mean()"
   ]
  },
  {
   "cell_type": "markdown",
   "id": "28fb39d1",
   "metadata": {},
   "source": [
    "This shows that mean probabilty of a simulated die roll is less than the theoretical mean probability (fair die roll) <br><br>\n",
    "However , **as we increase the no. of die roll samples , the simulated value gets closer to the theoretical value**"
   ]
  },
  {
   "cell_type": "code",
   "execution_count": 55,
   "id": "3510df81",
   "metadata": {},
   "outputs": [
    {
     "name": "stdout",
     "output_type": "stream",
     "text": [
      "3.47\n",
      "3.531\n"
     ]
    },
    {
     "data": {
      "text/plain": [
       "<Axes: >"
      ]
     },
     "execution_count": 55,
     "metadata": {},
     "output_type": "execute_result"
    },
    {
     "data": {
      "image/png": "[encoded data removed]",
      "text/plain": [
       "<Figure size 640x480 with 1 Axes>"
      ]
     },
     "metadata": {},
     "output_type": "display_data"
    }
   ],
   "source": [
    "np.random.seed(100)\n",
    "\n",
    "rolls100 = dice.sample(n=100,replace=True)\n",
    "print(rolls100[\"number\"].mean())\n",
    "rolls1K = dice.sample(n=1000,replace=True)\n",
    "print(rolls1K[\"number\"].mean())\n",
    "rolls100[\"number\"].hist()\n"
   ]
  },
  {
   "cell_type": "code",
   "execution_count": 56,
   "id": "a71daef5",
   "metadata": {},
   "outputs": [
    {
     "data": {
      "text/plain": [
       "<Axes: >"
      ]
     },
     "execution_count": 56,
     "metadata": {},
     "output_type": "execute_result"
    },
    {
     "data": {
      "image/png": "[encoded data removed]",
      "text/plain": [
       "<Figure size 640x480 with 1 Axes>"
      ]
     },
     "metadata": {},
     "output_type": "display_data"
    }
   ],
   "source": [
    "rolls1K[\"number\"].hist()"
   ]
  },
  {
   "cell_type": "code",
   "execution_count": 57,
   "id": "15481de1",
   "metadata": {},
   "outputs": [
    {
     "data": {
      "text/plain": [
       "np.float64(3.47)"
      ]
     },
     "execution_count": 57,
     "metadata": {},
     "output_type": "execute_result"
    }
   ],
   "source": [
    "np.random.seed(100)\n",
    "dice.sample(n=100,replace=True)[\"number\"].mean()"
   ]
  },
  {
   "cell_type": "markdown",
   "id": "ae86ddbe",
   "metadata": {},
   "source": [
    "____\n",
    "## Test questions on pandas & numpy"
   ]
  },
  {
   "cell_type": "code",
   "execution_count": 58,
   "id": "5ba381cf",
   "metadata": {},
   "outputs": [],
   "source": [
    "n2d = np.array([[1,2,3,4],[4,5,6,7],[11,12,13,14]])"
   ]
  },
  {
   "cell_type": "code",
   "execution_count": 59,
   "id": "4ec98cbc",
   "metadata": {},
   "outputs": [
    {
     "data": {
      "text/plain": [
       "array([[13, 14]])"
      ]
     },
     "execution_count": 59,
     "metadata": {},
     "output_type": "execute_result"
    }
   ],
   "source": [
    "n2d[2:,2:]"
   ]
  },
  {
   "cell_type": "code",
   "execution_count": 60,
   "id": "f8dce5fc",
   "metadata": {},
   "outputs": [
    {
     "name": "stdout",
     "output_type": "stream",
     "text": [
      "[0, 3, 4, 5]\n"
     ]
    }
   ],
   "source": [
    "x=[0,1,-2]\n",
    "x[1:] = [3,4,5]\n",
    "print(x)"
   ]
  },
  {
   "cell_type": "code",
   "execution_count": 61,
   "id": "e17405cf",
   "metadata": {},
   "outputs": [],
   "source": [
    "x[-1:] = [11,12,13]"
   ]
  },
  {
   "cell_type": "code",
   "execution_count": 62,
   "id": "5627b106",
   "metadata": {},
   "outputs": [
    {
     "data": {
      "text/plain": [
       "[0, 3, 4, 11, 12, 13]"
      ]
     },
     "execution_count": 62,
     "metadata": {},
     "output_type": "execute_result"
    }
   ],
   "source": [
    "x"
   ]
  },
  {
   "cell_type": "code",
   "execution_count": 63,
   "id": "10a706bd",
   "metadata": {},
   "outputs": [],
   "source": [
    "x=[1,2,3]\n",
    "y = [-1, 0.1, 1.1] + x[0:2]"
   ]
  },
  {
   "cell_type": "code",
   "execution_count": 64,
   "id": "4beadcf6",
   "metadata": {},
   "outputs": [
    {
     "data": {
      "text/plain": [
       "[-1, 0.1, 1.1, 1, 2]"
      ]
     },
     "execution_count": 64,
     "metadata": {},
     "output_type": "execute_result"
    }
   ],
   "source": [
    "y"
   ]
  },
  {
   "cell_type": "code",
   "execution_count": 65,
   "id": "288fd7b4",
   "metadata": {},
   "outputs": [
    {
     "data": {
      "text/plain": [
       "[1, 2]"
      ]
     },
     "execution_count": 65,
     "metadata": {},
     "output_type": "execute_result"
    }
   ],
   "source": [
    "x[0:2]"
   ]
  },
  {
   "cell_type": "markdown",
   "id": "573cc07e",
   "metadata": {},
   "source": [
    "_______\n",
    "## 2. Continuous distributions\n",
    "### Continuous uniform distributions\n",
    "We're considering example of wait time for a bus service that arrives every 12mins. "
   ]
  },
  {
   "cell_type": "code",
   "execution_count": 66,
   "id": "2014d3d1",
   "metadata": {},
   "outputs": [],
   "source": [
    "# importing uniform from scipy.stats\n",
    "from scipy.stats import uniform"
   ]
  },
  {
   "cell_type": "markdown",
   "id": "eccd65fb",
   "metadata": {},
   "source": [
    "**Finding probability between for wait time of 7 mins or less:** \n",
    "- The `.cdf()` function helps generate the probability of getting up to and including k successes.\n",
    "- `P(X <= k)` -- _the probability that an event X occurs for atmost k times_"
   ]
  },
  {
   "cell_type": "code",
   "execution_count": 67,
   "id": "4db9fada",
   "metadata": {},
   "outputs": [
    {
     "data": {
      "text/plain": [
       "np.float64(0.5833333333333334)"
      ]
     },
     "execution_count": 67,
     "metadata": {},
     "output_type": "execute_result"
    }
   ],
   "source": [
    "# Probability of waiting for 7 or less minutes \n",
    "uniform.cdf(7,0,12)"
   ]
  },
  {
   "cell_type": "code",
   "execution_count": 68,
   "id": "240a88d7",
   "metadata": {},
   "outputs": [
    {
     "data": {
      "text/plain": [
       "np.float64(0.41666666666666663)"
      ]
     },
     "execution_count": 68,
     "metadata": {},
     "output_type": "execute_result"
    }
   ],
   "source": [
    "# Probability of waiting for 7 or more minutes  (max time is 12)\n",
    "1 - uniform.cdf(7,0,12)"
   ]
  },
  {
   "cell_type": "markdown",
   "id": "e823f2e0",
   "metadata": {},
   "source": [
    "**Finding probability between 4 to 7 mins (both timestamps inclusive):** <br>\n",
    "For this we'll subtract P(waitTime <=4min) from P(waitTime>=7min)"
   ]
  },
  {
   "cell_type": "code",
   "execution_count": 69,
   "id": "cb716b85",
   "metadata": {},
   "outputs": [
    {
     "data": {
      "text/plain": [
       "np.float64(0.25000000000000006)"
      ]
     },
     "execution_count": 69,
     "metadata": {},
     "output_type": "execute_result"
    }
   ],
   "source": [
    "uniform.cdf(7,0,12) - uniform.cdf(4,0,12)"
   ]
  },
  {
   "cell_type": "markdown",
   "id": "b03af6c0",
   "metadata": {},
   "source": [
    "**Finding probability between 0 to 12 mins (both timestamps inclusive):** "
   ]
  },
  {
   "cell_type": "code",
   "execution_count": 70,
   "id": "a10abca9",
   "metadata": {},
   "outputs": [
    {
     "data": {
      "text/plain": [
       "np.float64(1.0)"
      ]
     },
     "execution_count": 70,
     "metadata": {},
     "output_type": "execute_result"
    }
   ],
   "source": [
    "uniform.cdf(12,0,12)"
   ]
  },
  {
   "cell_type": "markdown",
   "id": "947c1493",
   "metadata": {},
   "source": [
    "### Generating  random no.s using `uniform.rvs()`\n",
    "_Give me N random values that follow this specific probability distribution_\n",
    "- NOTE: the `.rvs()` used to generate random values (simulate data) from their respective probability distributions.\n",
    "- `uniform.rvs()` generates random numbers from a uniform distribution where every value in the range has equal probability.\n",
    "\n",
    "\n",
    "\n"
   ]
  },
  {
   "cell_type": "code",
   "execution_count": 71,
   "id": "20203cd6",
   "metadata": {},
   "outputs": [
    {
     "data": {
      "text/plain": [
       "array([1.81594002, 1.02172638, 1.38382531, 1.23267941, 0.86804001,\n",
       "       4.83304847, 4.785063  , 2.98986842, 3.65650377, 1.70192611])"
      ]
     },
     "execution_count": 71,
     "metadata": {},
     "output_type": "execute_result"
    }
   ],
   "source": [
    "uniform.rvs(0,5,size=10)"
   ]
  },
  {
   "cell_type": "markdown",
   "id": "6f3d87cc",
   "metadata": {},
   "source": [
    "**NOTE for Other continuous distributions:** Area beneath a distribution will always equal 1 regardless of whether the distribution is uniform or normal/ exponential\n",
    "______\n",
    "## 3. Binomial Distribution\n",
    "A binomial distribution is a discrete probability distribution that models the count of successes in a set number of independent trials. Each trial in this scenario has only two possible outcomes, often labeled as \"success\" and \"failure,\" with a consistent probability of success across all trials. <br><br>\n",
    "Example: we'll model a coin flip -- both the head as well as tail has 50% chance. Assume H as success (win) and T as failure(loss)"
   ]
  },
  {
   "cell_type": "code",
   "execution_count": 72,
   "metadata": {},
   "outputs": [],
   "source": [
    "from scipy.stats import binom"
   ]
  },
  {
   "cell_type": "markdown",
   "id": "b044bcf2",
   "metadata": {},
   "source": [
    "### Scenario-1: flipping 1 coin 10 times\n",
    "Using `binom.rvs()` to simulate a coin toss. The result is a **1-D array** with one row equal to the trial size (10 in below example).<br>\n",
    "Each value (1 or 0) represents a result (success OR failure) for each of the 10 trials:"
   ]
  },
  {
   "cell_type": "code",
   "execution_count": 73,
   "metadata": {},
   "outputs": [
    {
     "data": {
      "text/plain": [
       "array([0, 0, 1, 0, 1, 1, 0, 0, 1, 1])"
      ]
     },
     "execution_count": 73,
     "metadata": {},
     "output_type": "execute_result"
    }
   ],
   "source": [
    "# Flip one coin with 50% chance of success for 10 times\n",
    "binom.rvs(n=1,p=0.5,size=10)"
   ]
  },
  {
   "cell_type": "markdown",
   "id": "d8783d36",
   "metadata": {},
   "source": [
    "The `.rvs()` generates a sample of "
   ]
  },
  {
   "cell_type": "code",
   "execution_count": 74,
   "id": "987f4532",
   "metadata": {},
   "outputs": [
    {
     "data": {
      "text/plain": [
       "(10,)"
      ]
     },
     "execution_count": 74,
     "metadata": {},
     "output_type": "execute_result"
    }
   ],
   "source": [
    "binom.rvs(n=1,p=0.5,size=10).shape"
   ]
  },
  {
   "cell_type": "markdown",
   "id": "380a8c30",
   "metadata": {},
   "source": [
    "### Scenario-2: flipping 8 coins 1 time\n",
    "Now flipping *8 coins*, *once*. Result will be **a single value** that represents the no. of successes"
   ]
  },
  {
   "cell_type": "code",
   "execution_count": 75,
   "id": "a48533c9",
   "metadata": {},
   "outputs": [
    {
     "data": {
      "text/plain": [
       "array([3])"
      ]
     },
     "execution_count": 75,
     "metadata": {},
     "output_type": "execute_result"
    }
   ],
   "source": [
    "binom.rvs(n=8,p=0.5,size=1)"
   ]
  },
  {
   "cell_type": "code",
   "execution_count": 76,
   "id": "bdfacc39",
   "metadata": {},
   "outputs": [
    {
     "data": {
      "text/plain": [
       "(1,)"
      ]
     },
     "execution_count": 76,
     "metadata": {},
     "output_type": "execute_result"
    }
   ],
   "source": [
    "binom.rvs(n=8,p=0.5,size=1).shape"
   ]
  },
  {
   "cell_type": "markdown",
   "id": "b4cf767b",
   "metadata": {},
   "source": [
    "### Scenario-3: flipping 3 coins 10 times\n",
    "Result will be 1-D array that represents sum of successful outcomes for each of the 10trials"
   ]
  },
  {
   "cell_type": "code",
   "execution_count": 77,
   "id": "a878cf0e",
   "metadata": {},
   "outputs": [
    {
     "data": {
      "text/plain": [
       "array([2, 2, 2, 1, 2, 2, 2, 3, 3, 1])"
      ]
     },
     "execution_count": 77,
     "metadata": {},
     "output_type": "execute_result"
    }
   ],
   "source": [
    "binom.rvs(n=3,p=0.5,size=10)"
   ]
  },
  {
   "cell_type": "markdown",
   "id": "59f69f76",
   "metadata": {},
   "source": [
    "### Other scenarios:"
   ]
  },
  {
   "cell_type": "code",
   "execution_count": 78,
   "id": "4a60b466",
   "metadata": {},
   "outputs": [
    {
     "data": {
      "text/plain": [
       "array([0, 0, 2, 2, 0, 0, 1, 0, 1, 1])"
      ]
     },
     "execution_count": 78,
     "metadata": {},
     "output_type": "execute_result"
    }
   ],
   "source": [
    "# Where one side of the coin is heavier than hhe other\n",
    "binom.rvs(n=3,p=0.25,size=10)"
   ]
  },
  {
   "cell_type": "markdown",
   "id": "66a31b0a",
   "metadata": {},
   "source": [
    "Probability for getting exactly 7 heads of 10 coin flips<br>\n",
    "`P(outcome = 7)`"
   ]
  },
  {
   "cell_type": "code",
   "execution_count": 79,
   "id": "9ae0162f",
   "metadata": {},
   "outputs": [
    {
     "data": {
      "text/plain": [
       "np.float64(0.11718749999999996)"
      ]
     },
     "execution_count": 79,
     "metadata": {},
     "output_type": "execute_result"
    }
   ],
   "source": [
    "binom.pmf(7,10,0.5)"
   ]
  },
  {
   "cell_type": "markdown",
   "id": "f37e0e30",
   "metadata": {},
   "source": [
    "Probability for getting **atmost 7 heads of 10** coin flips<br>\n",
    "`P(outcome<=7)`"
   ]
  },
  {
   "cell_type": "code",
   "execution_count": 80,
   "id": "4a04e879",
   "metadata": {},
   "outputs": [
    {
     "data": {
      "text/plain": [
       "np.float64(0.9453125)"
      ]
     },
     "execution_count": 80,
     "metadata": {},
     "output_type": "execute_result"
    }
   ],
   "source": [
    "binom.cdf(7,10,0.5)"
   ]
  },
  {
   "cell_type": "markdown",
   "id": "6fa50033",
   "metadata": {},
   "source": [
    "Probability for getting **atleast 7 heads of 10** coin flips<br>\n",
    "`P(outcome>=7)`"
   ]
  },
  {
   "cell_type": "code",
   "execution_count": 81,
   "id": "1ac356b9",
   "metadata": {},
   "outputs": [
    {
     "data": {
      "text/plain": [
       "np.float64(0.0546875)"
      ]
     },
     "execution_count": 81,
     "metadata": {},
     "output_type": "execute_result"
    }
   ],
   "source": [
    "1 - binom.cdf(7,10,0.5)"
   ]
  },
  {
   "cell_type": "markdown",
   "id": "a6cb4ef9",
   "metadata": {},
   "source": [
    "__________________\n",
    "### Test questions:\n",
    "Assume that Amir usually works on 3 deals per week, and overall, he wins 30% of deals he works on. Each deal has a binary outcome: it's either lost, or won, so you can model his sales deals with a binomial distribution. In this exercise, you'll help Amir simulate a year's worth of his deals so he can better understand his performanc"
   ]
  },
  {
   "cell_type": "code",
   "execution_count": 82,
   "id": "dee861d6",
   "metadata": {},
   "outputs": [
    {
     "data": {
      "text/plain": [
       "(178, 6)"
      ]
     },
     "execution_count": 82,
     "metadata": {},
     "output_type": "execute_result"
    }
   ],
   "source": [
    "amir_deals.head()\n",
    "amir_deals.shape"
   ]
  },
  {
   "cell_type": "code",
   "execution_count": 83,
   "id": "90a0b267",
   "metadata": {},
   "outputs": [
    {
     "data": {
      "text/plain": [
       "np.float64(3.0514304018273523e-21)"
      ]
     },
     "execution_count": 83,
     "metadata": {},
     "output_type": "execute_result"
    }
   ],
   "source": [
    "np.random.seed(10)\n",
    "binom.pmf(1,144,0.3)"
   ]
  },
  {
   "cell_type": "code",
   "execution_count": 84,
   "id": "677fd9a5",
   "metadata": {},
   "outputs": [
    {
     "data": {
      "text/plain": [
       "array([1, 0, 1, 1, 1, 0, 0, 1, 0, 0, 1, 2, 0, 1, 2, 1, 1, 0, 2, 1, 1, 0,\n",
       "       1, 1, 1, 1, 1, 1, 1, 1, 2, 1, 2, 0, 0, 0, 0, 2, 0, 1, 1, 2, 0, 2,\n",
       "       1, 1, 0, 2, 0, 0, 1, 0])"
      ]
     },
     "execution_count": 84,
     "metadata": {},
     "output_type": "execute_result"
    }
   ],
   "source": [
    "# Calculating for trying to close 3 deals per week in a year (52 weeks) at a success rate of 30%\n",
    "np.random.seed(10)\n",
    "deals =binom.rvs(3,0.3,size=52) \n",
    "deals"
   ]
  },
  {
   "cell_type": "code",
   "execution_count": 85,
   "id": "de898373",
   "metadata": {},
   "outputs": [
    {
     "data": {
      "text/plain": [
       "np.float64(0.8269230769230769)"
      ]
     },
     "execution_count": 85,
     "metadata": {},
     "output_type": "execute_result"
    }
   ],
   "source": [
    "# Mean of deals closed per week:\n",
    "np.mean(deals)"
   ]
  },
  {
   "cell_type": "markdown",
   "id": "ba662d14",
   "metadata": {},
   "source": [
    "Thus we can conclude that on average ,0.83 deals can be closed per week, assuming 30% success rate.<br><br>\n",
    "Q:What's the probability that Amir closes all 3 deals in a week? Save this as `prob_3`."
   ]
  },
  {
   "cell_type": "code",
   "execution_count": 86,
   "id": "a52f6411",
   "metadata": {},
   "outputs": [
    {
     "data": {
      "text/plain": [
       "np.float64(0.027)"
      ]
     },
     "execution_count": 86,
     "metadata": {},
     "output_type": "execute_result"
    }
   ],
   "source": [
    "# Probability of closing exactly 3 deals in a week\n",
    "prob_3 = binom.pmf(3,3,0.30)\n",
    "prob_3"
   ]
  },
  {
   "cell_type": "markdown",
   "id": "378fc782",
   "metadata": {},
   "source": [
    "Q: What's the probability that Amir closes 1 or fewer deals in a week? Save this as `prob_less_than_or_equal_1`."
   ]
  },
  {
   "cell_type": "code",
   "execution_count": 87,
   "metadata": {},
   "outputs": [
    {
     "data": {
      "text/plain": [
       "np.float64(0.784)"
      ]
     },
     "execution_count": 87,
     "metadata": {},
     "output_type": "execute_result"
    }
   ],
   "source": [
    "prob_less_than_or_equal_1 = binom.cdf(1,3,0.30)\n",
    "prob_less_than_or_equal_1"
   ]
  },
  {
   "cell_type": "markdown",
   "id": "2a9a6a35",
   "metadata": {},
   "source": [
    "Q: What's the probability that Amir closes more than 1 deal? Save this as `prob_greater_than_1`."
   ]
  },
  {
   "cell_type": "code",
   "execution_count": 88,
   "id": "ce66ce2c",
   "metadata": {},
   "outputs": [
    {
     "data": {
      "text/plain": [
       "np.float64(0.21599999999999997)"
      ]
     },
     "execution_count": 88,
     "metadata": {},
     "output_type": "execute_result"
    }
   ],
   "source": [
    "prob_greater_than_1 = 1 - binom.cdf(1,3,0.3)\n",
    "prob_greater_than_1"
   ]
  },
  {
   "cell_type": "markdown",
   "id": "5eb8a312",
   "metadata": {},
   "source": [
    "Q: Calculate the expected number of sales out of the 3 he works on that Amir will win each week if he maintains his 30% win rate.<br>\n",
    "<br>\n",
    "**NOTE that the expected value of a binomial distribution can be calculated by _`n X p`_**"
   ]
  },
  {
   "cell_type": "code",
   "execution_count": 89,
   "id": "bf006dbe",
   "metadata": {},
   "outputs": [
    {
     "name": "stdout",
     "output_type": "stream",
     "text": [
      "0.8999999999999999\n"
     ]
    }
   ],
   "source": [
    "won_30pct = 3 * 0.3\n",
    "print(won_30pct)"
   ]
  },
  {
   "cell_type": "markdown",
   "id": "1fe3791b",
   "metadata": {},
   "source": [
    "Q: Calculate the expected number of sales out of the 3 he works on that he'll win if his win rate rises to 35%."
   ]
  },
  {
   "cell_type": "code",
   "execution_count": 90,
   "id": "0b25f12f",
   "metadata": {},
   "outputs": [
    {
     "name": "stdout",
     "output_type": "stream",
     "text": [
      "1.0499999999999998\n"
     ]
    }
   ],
   "source": [
    "won_35pct = 3 * 0.35\n",
    "print(won_35pct)"
   ]
  },
  {
   "cell_type": "markdown",
   "id": "c51cdce2",
   "metadata": {},
   "source": [
    "**Thus we can see that if the win rate goes up by 5%,  average weekly closing would be more than 1 deal.**"
   ]
  },
  {
   "cell_type": "markdown",
   "id": "a17c38a4",
   "metadata": {},
   "source": [
    "____\n",
    "# 4. Normal Distribution\n",
    "details <br>\n",
    "<br>\n",
    "As part of Amir's performance review, you want to be able to estimate the probability of him selling different amounts, but before you can do this, you'll need to determine what kind of distribution the `amount` variable follows."
   ]
  },
  {
   "cell_type": "code",
   "execution_count": 91,
   "id": "c9de0c62",
   "metadata": {},
   "outputs": [
    {
     "data": {
      "image/png": "[encoded data removed]",
      "text/plain": [
       "<Figure size 640x480 with 1 Axes>"
      ]
     },
     "metadata": {},
     "output_type": "display_data"
    }
   ],
   "source": [
    "amir_deals[\"amount\"].hist(bins=10)\n",
    "plt.show()"
   ]
  },
  {
   "cell_type": "markdown",
   "id": "14aeeb65",
   "metadata": {},
   "source": [
    "Its observed that the `amount` data from `amir_deals` follows a normal distribution curve"
   ]
  },
  {
   "cell_type": "code",
   "execution_count": null,
   "id": "d8f54568",
   "metadata": {},
   "outputs": [],
   "source": [
    "plt.text()"
   ]
  },
  {
   "cell_type": "markdown",
   "id": "8fe4c08d",
   "metadata": {},
   "source": [
    "_____\n",
    "## Summarizing\n",
    "Understanding exactly when to use which function -- and why. <br>\n",
    "<br>\n",
    "### 1. Discrete distribution:"
   ]
  },
  {
   "cell_type": "code",
   "execution_count": 97,
   "id": "6d5e7001",
   "metadata": {},
   "outputs": [
    {
     "data": {
      "text/plain": [
       "np.float64(0.11718749999999996)"
      ]
     },
     "execution_count": 97,
     "metadata": {},
     "output_type": "execute_result"
    }
   ],
   "source": [
    "# Flipping a coin 10 times ; check for probability of getting EXACTLY 7 heads\n",
    "\n",
    "binom.pmf(7, n=10, p=0.5)"
   ]
  },
  {
   "cell_type": "code",
   "execution_count": 98,
   "id": "69bf96ae",
   "metadata": {},
   "outputs": [
    {
     "data": {
      "text/plain": [
       "np.float64(0.9453125)"
      ]
     },
     "execution_count": 98,
     "metadata": {},
     "output_type": "execute_result"
    }
   ],
   "source": [
    "# Flipping a coin 10 times ; check for probability of getting ATMOST 7 heads\n",
    "binom.cdf(7,10,0.5)"
   ]
  },
  {
   "cell_type": "code",
   "execution_count": 100,
   "id": "a2eb2c3a",
   "metadata": {},
   "outputs": [
    {
     "data": {
      "text/plain": [
       "np.float64(0.1550453595742519)"
      ]
     },
     "execution_count": 100,
     "metadata": {},
     "output_type": "execute_result"
    }
   ],
   "source": [
    "#  Probability of getting exactly 3 sixes in 10 rolls\n",
    "# x=3 is no. of successes, size=10 is no. of trials, p=1/6 is probability of success\n",
    "from scipy.stats import binom\n",
    "binom.pmf(3, n=10, p=1/6)\t"
   ]
  },
  {
   "cell_type": "code",
   "execution_count": 109,
   "id": "aeb50b76",
   "metadata": {},
   "outputs": [
    {
     "data": {
      "image/png": "[encoded data removed]",
      "text/plain": [
       "<Figure size 1200x500 with 4 Axes>"
      ]
     },
     "metadata": {},
     "output_type": "display_data"
    }
   ],
   "source": [
    "n = 10       # number of trials (rolls)\n",
    "p = 1/6      # probability of success (rolling a 6)\n",
    "x = np.arange(0, n+1)  # possible outcomes: 0 through 10\n",
    "\n",
    "n1 = 100\n",
    "p1 = 1/6\n",
    "x1 = np.arange(0, n1+1)  # possible outcomes: 0 through 10\n",
    "\n",
    "\n",
    "# Calculate PMF and CDF\n",
    "pmf_vals = binom.pmf(x, n, p)\n",
    "cdf_vals = binom.cdf(x, n, p)\n",
    "\n",
    "pmf_vals1 = binom.pmf(x1, n1, p1)\n",
    "cdf_vals1 = binom.cdf(x1, n1, p1)\n",
    "\n",
    "# Plotting\n",
    "fig, ax = plt.subplots(2, 2, figsize=(12, 5),sharey=False)\n",
    "\n",
    "# PMF Plot\n",
    "ax[0,0].bar(x, pmf_vals, color=\"skyblue\", edgecolor=\"black\")\n",
    "ax[0,0].set_title(\"PMF: Probability of Exactly x Sixes\")\n",
    "ax[0,0].set_xlabel(\"Number of Sixes\")\n",
    "ax[0,0].set_ylabel(\"Probability\")\n",
    "\n",
    "# CDF Plot\n",
    "ax[0,1].step(x, cdf_vals, where=\"mid\", color=\"orange\")\n",
    "ax[0,1].fill_between(x, cdf_vals, step=\"mid\", alpha=0.3, color=\"orange\")\n",
    "ax[0,1].set_title(\"CDF: Probability of ≤ x Sixes\")\n",
    "ax[0,1].set_xlabel(\"Number of Sixes\")\n",
    "ax[0,1].set_ylabel(\"Cumulative Probability\")\n",
    "\n",
    "# PMF1 Plot\n",
    "ax[1,0].bar(x1, pmf_vals1, color=\"skyblue\", edgecolor=\"black\")\n",
    "ax[1,0].set_title(\"PMF: Probability of Exactly x Sixes\")\n",
    "ax[1,0].set_xlabel(\"Number of Sixes\")\n",
    "ax[1,0].set_ylabel(\"Probability\")\n",
    "\n",
    "# CDF1 Plot\n",
    "ax[1,1].step(x1, cdf_vals1, where=\"mid\", color=\"orange\")\n",
    "ax[1,1].fill_between(x1, cdf_vals1, step=\"mid\", alpha=0.3, color=\"orange\")\n",
    "ax[1,1].set_title(\"CDF: Probability of ≤ x Sixes\")\n",
    "ax[1,1].set_xlabel(\"Number of Sixes\")\n",
    "ax[1,1].set_ylabel(\"Cumulative Probability\")\n",
    "\n",
    "\n",
    "plt.tight_layout()\n",
    "plt.show()"
   ]
  },
  {
   "cell_type": "code",
   "execution_count": null,
   "id": "19bf8eba",
   "metadata": {},
   "outputs": [],
   "source": []
  },
  {
   "cell_type": "code",
   "execution_count": null,
   "id": "7e06c70c",
   "metadata": {},
   "outputs": [],
   "source": []
  },
  {
   "cell_type": "code",
   "execution_count": null,
   "id": "f5d629da",
   "metadata": {},
   "outputs": [],
   "source": []
  },
  {
   "cell_type": "markdown",
   "id": "d2e5058d",
   "metadata": {},
   "source": [
    "### 2. Continuous distribution (consider Normal Distribution)\n",
    "The cumulative distribution function `norm.cdf()` gives the probability that a random variable is less than or equal to a certain value. <br> \n",
    "Rgw `norm.cdf()` answers the question:\n",
    "_<blockquote> \"What % of people are shorter than 154 cm?\" <blockquote>_"
   ]
  },
  {
   "cell_type": "code",
   "execution_count": 115,
   "id": "7929b8a1",
   "metadata": {},
   "outputs": [
    {
     "data": {
      "text/plain": [
       "np.float64(0.15865525393145707)"
      ]
     },
     "execution_count": 115,
     "metadata": {},
     "output_type": "execute_result"
    }
   ],
   "source": [
    "# Probability that a person has height<154cm for given sample population with mean height 161cm & Std_dev 7\n",
    "from scipy.stats import norm\n",
    "norm.cdf(154, loc=161, scale=7)"
   ]
  },
  {
   "cell_type": "markdown",
   "id": "676b3a64",
   "metadata": {},
   "source": [
    "So there's a 15% chance of a person has height<154cm for given sample population. <br>\n",
    "<br>\n",
    "Use `norm.ppf()` when you’re given a percentile/probability and want to find the corresponding data point."
   ]
  },
  {
   "cell_type": "code",
   "execution_count": 116,
   "id": "c408a50c",
   "metadata": {},
   "outputs": [
    {
     "data": {
      "text/plain": [
       "np.float64(153.74496627354347)"
      ]
     },
     "execution_count": 116,
     "metadata": {},
     "output_type": "execute_result"
    }
   ],
   "source": [
    "# What is the height below which 15% of the populaition falls?\n",
    "norm.ppf(0.15, loc=161, scale=7)"
   ]
  },
  {
   "cell_type": "markdown",
   "id": "89690002",
   "metadata": {},
   "source": [
    "So 15% of the above population sample falls below 154cm. <br>\n",
    "<br>\n",
    "Similarly we can also find above what height does 30% of the population lie?"
   ]
  },
  {
   "cell_type": "code",
   "execution_count": 117,
   "id": "2d44cdd0",
   "metadata": {},
   "outputs": [
    {
     "data": {
      "text/plain": [
       "np.float64(164.6708035889563)"
      ]
     },
     "execution_count": 117,
     "metadata": {},
     "output_type": "execute_result"
    }
   ],
   "source": [
    "norm.ppf((1-0.30), loc=161, scale=7)"
   ]
  },
  {
   "cell_type": "markdown",
   "id": "751f4459",
   "metadata": {},
   "source": [
    "So, 30% of the population has height above 164cm"
   ]
  },
  {
   "cell_type": "markdown",
   "id": "6858a4e1",
   "metadata": {},
   "source": [
    "# Poisson Distribution\n",
    "Its a kind of discrete probability distribution over a given interval of time.  <br>\n",
    "Helps to answer questions such as:\n",
    "\n",
    "_<blockquote>If X is the avg. occurrence of events over a given time interval, then what's the probability of Y events taking place in the same time interval?</blockquote>_\n",
    "<br>\n",
    "\n",
    "### Scenario 1:  `P(# events in a time interval = k)`\n"
   ]
  },
  {
   "cell_type": "code",
   "execution_count": 126,
   "id": "7ed6f1ca",
   "metadata": {},
   "outputs": [
    {
     "data": {
      "text/plain": [
       "np.float64(0.09160366159257921)"
      ]
     },
     "execution_count": 126,
     "metadata": {},
     "output_type": "execute_result"
    }
   ],
   "source": [
    "# Probability that an event occurs 5 times over a time interval where it occurrs on average of 8 times over same time interval\n",
    "from scipy.stats import poisson\n",
    "poisson.pmf(5,8)\n"
   ]
  },
  {
   "cell_type": "markdown",
   "id": "48d29b91",
   "metadata": {},
   "source": [
    "So there's about 9% probability for the event to occur **exactly** 5 times over the time interval\n",
    "### Scenario 2:  `P(# events in a time interval <= k)`"
   ]
  },
  {
   "cell_type": "code",
   "execution_count": 125,
   "id": "d9e1b436",
   "metadata": {},
   "outputs": [
    {
     "data": {
      "text/plain": [
       "np.float64(0.19123606207962535)"
      ]
     },
     "execution_count": 125,
     "metadata": {},
     "output_type": "execute_result"
    }
   ],
   "source": [
    "# Probability that an event occurs for atmost 5 times over a time interval where it occurrs on average of 8 times over same time interval\n",
    "from scipy.stats import poisson\n",
    "poisson.cdf(5,8)"
   ]
  },
  {
   "cell_type": "markdown",
   "id": "413d5393",
   "metadata": {},
   "source": [
    "So there's about 19% probability for the event to occur **upto** 5 times over the time interval\n",
    "### Scenario 3:  `P(# events in a time interval >= k)`"
   ]
  },
  {
   "cell_type": "code",
   "execution_count": 127,
   "id": "675f1849",
   "metadata": {},
   "outputs": [
    {
     "data": {
      "text/plain": [
       "np.float64(0.8087639379203746)"
      ]
     },
     "execution_count": 127,
     "metadata": {},
     "output_type": "execute_result"
    }
   ],
   "source": [
    "# Probability that an event occurs for atleast 5 times over a time interval where it occurrs on average of 8 times over same time interval\n",
    "from scipy.stats import poisson\n",
    "1 - poisson.cdf(5,8)"
   ]
  },
  {
   "cell_type": "markdown",
   "id": "bebc8b93",
   "metadata": {},
   "source": [
    "Thus there's 80% chance for the evnet ot occur for **alteast 5 times** in a week given that it occurrs 8  times on average\n",
    "## Sampling a Poisson distribution\n",
    "Using the `poisson.rvs()` function to generate a list of values. <br>\n",
    "<br>\n",
    "\n",
    "### Scenario 1: Sampling over 10 weeks for an event occur "
   ]
  },
  {
   "cell_type": "code",
   "execution_count": null,
   "id": "95c60e61",
   "metadata": {},
   "outputs": [],
   "source": []
  },
  {
   "cell_type": "code",
   "execution_count": null,
   "id": "99283154",
   "metadata": {},
   "outputs": [],
   "source": []
  },
  {
   "cell_type": "code",
   "execution_count": null,
   "id": "6f469e8b",
   "metadata": {},
   "outputs": [],
   "source": []
  },
  {
   "cell_type": "code",
   "execution_count": null,
   "id": "7d0ccbd1",
   "metadata": {},
   "outputs": [],
   "source": []
  },
  {
   "cell_type": "code",
   "execution_count": null,
   "metadata": {},
   "outputs": [],
   "source": []
  }
 ],
 "metadata": {
  "kernelspec": {
   "display_name": "dcvenv",
   "language": "python",
   "name": "python3"
  },
  "language_info": {
   "codemirror_mode": {
    "name": "ipython",
    "version": 3
   },
   "file_extension": ".py",
   "mimetype": "text/x-python",
   "name": "python",
   "nbconvert_exporter": "python",
   "pygments_lexer": "ipython3",
   "version": "3.13.1"
  }
 },
 "nbformat": 4,
 "nbformat_minor": 5
}
